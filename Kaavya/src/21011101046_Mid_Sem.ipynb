{
 "cells": [
  {
   "cell_type": "markdown",
   "id": "cdabd6bb-c5e1-4e4b-b4e5-7ee43e8b35eb",
   "metadata": {},
   "source": [
    "<h1> Harish R <br> AI & DS - A <br> 21011101046</h1>"
   ]
  },
  {
   "cell_type": "markdown",
   "id": "1d8f92af-02bb-4cfd-bad4-51266b95172d",
   "metadata": {},
   "source": [
    "# Midsem Solutions"
   ]
  },
  {
   "cell_type": "markdown",
   "id": "18522755-ffe3-4cad-a4fa-2c89b8bf27fd",
   "metadata": {},
   "source": [
    "## Question 1 a."
   ]
  },
  {
   "cell_type": "markdown",
   "id": "68ced4d5-6702-49bd-b16c-c8616300ffb4",
   "metadata": {},
   "source": [
    "Three major Sub-systems:\r\n",
    "1. Camera Body\r\n",
    "2. Sensor Chip\r\n",
    "3. Image Signal Processor (ISP)"
   ]
  },
  {
   "cell_type": "markdown",
   "id": "0b005434-88cb-4bae-b644-1521c8afc745",
   "metadata": {},
   "source": [
    "Important functions \n",
    "performed by the DSP sub system:\n",
    "1. Denoise & Sharpen\n",
    "2. Gamma Correction"
   ]
  },
  {
   "cell_type": "markdown",
   "id": "85b7f6f9-76ca-41a3-a8ed-509f7f437a51",
   "metadata": {},
   "source": [
    "## Question 1 b."
   ]
  },
  {
   "cell_type": "markdown",
   "id": "3584c8de-223c-4fdc-9d59-799c8bb68e42",
   "metadata": {},
   "source": [
    "1. If sum of pixel values of input image and sum of pixel values of Filtered output image,\n",
    "remains approximately same after smoothing, then it means filter is redistributing\n",
    "pixel values to overall intensity.\n",
    "2. If sum of pixel values in sharpened image is close to 0, it means filter is emphasizing\r\n",
    "edges and details without altering brightness, i.e., sharpening is proper."
   ]
  },
  {
   "cell_type": "markdown",
   "id": "da204758-0016-4d73-82eb-a5415bed8bf1",
   "metadata": {},
   "source": [
    "## Question 2 a."
   ]
  },
  {
   "cell_type": "markdown",
   "id": "33af4a3a-3bd6-4802-b618-6ef3f7e5fb2b",
   "metadata": {},
   "source": [
    "Kernel coefficient sum= 0.5 + 0.5 =1 (i.e., Sharpening)\n",
    "\r\n",
    "Correlation: x(n) * h(n) = {0.5, 1.5, 2.5, 4, 2.} \n",
    "\r\n",
    "Convolution: x(n) * h’(n) = {0.5, 1.5, 2.5,  ,.5}\n",
    "\n",
    "}\r\n",
    "Sum of pixel values before convolution = Sum after convolution = 11"
   ]
  },
  {
   "cell_type": "markdown",
   "id": "596823fa-fe61-449d-a5d3-2b849e6e93d4",
   "metadata": {},
   "source": [
    "## Question 2 b."
   ]
  },
  {
   "cell_type": "markdown",
   "id": "9749b33f-0442-4aae-83a8-2541b232b270",
   "metadata": {},
   "source": [
    "To find:\n",
    "If h(n) = {0.5, 0.5},→ Sum of kernel coefficients = 1, i.e., Sharpening<br>\n",
    "• Σ 𝑦(𝑛)\n",
    "∞\n",
    "𝑘= −∞\n",
    "= 11<br>\n",
    "If h(n) = {0.5, -0.5}, → Sum of kernel coefficients = 0, i.e., Smoothing<br>\n",
    "• Σ 𝑦(𝑛)\n",
    "∞\n",
    "𝑘= −∞\n",
    "= 0<br>\n",
    "For Sharpening, Sum of pixel values before convolution = Sum after convolution <br>\n",
    "For Smoothing, Sum of pixel values of filtered image = 0"
   ]
  },
  {
   "cell_type": "markdown",
   "id": "d7712393-ccff-4cbc-b157-19bcf6db85d8",
   "metadata": {},
   "source": [
    "## Question 3 a."
   ]
  },
  {
   "cell_type": "markdown",
   "id": "8f4fb8e6-1263-428c-b739-85be6bb28f88",
   "metadata": {},
   "source": [
    "I’(x,y) = Σ Σ 𝐼(𝑖, 𝑗)\r\n",
    "∞\r\n",
    "𝑗 = −∞\r\n",
    "𝐾\r\n",
    "∞\r\n",
    "𝑖= −∞\r\n",
    "(𝑥 − 𝑖, 𝑦\n",
    "<br> − 𝑗)\r\n",
    "Since kernel coefficients sum to 1, Kij =1, this implies the kernel is a smoothening\n",
    "<br> kernel\r\n",
    "Σ I’ = ΣI"
   ]
  },
  {
   "cell_type": "markdown",
   "id": "3d1d6bb6-55c8-44f3-bc2c-6cbedd25761b",
   "metadata": {},
   "source": [
    "## Question 3 b."
   ]
  },
  {
   "cell_type": "markdown",
   "id": "0a65e21b-7c13-4294-80a0-7f8b5ea0fb1a",
   "metadata": {},
   "source": [
    "I’(x,y) = Σ Σ 𝐼(𝑖, 𝑗)\r\n",
    "∞\r\n",
    "𝑗 = −∞\r\n",
    "𝐾\r\n",
    "∞\r\n",
    "𝑖= −∞\r\n",
    "(𝑥 − 𝑖, 𝑦<br> − 𝑗)\r\n",
    "Since kernel coefficients sum to 0, Kij =0, this implies the kernel is a sharpening or edge\r\n",
    "detectio\n",
    "<br>n kernel\r\n",
    "ΣI’ = 0"
   ]
  },
  {
   "cell_type": "markdown",
   "id": "51133eec-b556-4e64-bc51-668a4a001a65",
   "metadata": {},
   "source": [
    "## Question 4 a."
   ]
  },
  {
   "cell_type": "code",
   "execution_count": 1,
   "id": "f5c91764-f137-4992-ab12-6b42e942bf85",
   "metadata": {},
   "outputs": [],
   "source": [
    "import numpy as np\n",
    "import matplotlib.pyplot as plt"
   ]
  },
  {
   "cell_type": "code",
   "execution_count": 2,
   "id": "ac5c7e29-405f-42f2-8727-9660422e12f7",
   "metadata": {},
   "outputs": [
    {
     "data": {
      "text/plain": [
       "(array([100182., 100014.,  99877.,  99989., 100514.,  99388., 100089.,\n",
       "        100440.,  99503., 100004.]),\n",
       " array([2.73763903e-05, 1.00002299e+00, 2.00001860e+00, 3.00001421e+00,\n",
       "        4.00000982e+00, 5.00000544e+00, 6.00000105e+00, 6.99999666e+00,\n",
       "        7.99999227e+00, 8.99998788e+00, 9.99998349e+00]),\n",
       " <BarContainer object of 10 artists>)"
      ]
     },
     "execution_count": 2,
     "metadata": {},
     "output_type": "execute_result"
    },
    {
     "data": {
      "image/png": "[encoded data removed]",
      "text/plain": [
       "<Figure size 640x480 with 1 Axes>"
      ]
     },
     "metadata": {},
     "output_type": "display_data"
    }
   ],
   "source": [
    "points_x = np.random.uniform(0,10,size = 1000000)\n",
    "plt.hist(points_x)"
   ]
  },
  {
   "cell_type": "code",
   "execution_count": 3,
   "id": "b1a6cea3-5d43-4db5-8987-d0faf4cefc58",
   "metadata": {},
   "outputs": [
    {
     "data": {
      "text/plain": [
       "(array([7.35858e+05, 1.94490e+05, 5.13310e+04, 1.34400e+04, 3.60200e+03,\n",
       "        9.50000e+02, 2.28000e+02, 7.60000e+01, 2.10000e+01, 4.00000e+00]),\n",
       " array([2.73764278e-06, 1.33143942e+00, 2.66287609e+00, 3.99431277e+00,\n",
       "        5.32574945e+00, 6.65718613e+00, 7.98862281e+00, 9.32005949e+00,\n",
       "        1.06514962e+01, 1.19829328e+01, 1.33143695e+01]),\n",
       " <BarContainer object of 10 artists>)"
      ]
     },
     "execution_count": 3,
     "metadata": {},
     "output_type": "execute_result"
    },
    {
     "data": {
      "image/png": "[encoded data removed]",
      "text/plain": [
       "<Figure size 640x480 with 1 Axes>"
      ]
     },
     "metadata": {},
     "output_type": "display_data"
    }
   ],
   "source": [
    "points_y = (-1)*np.log(1-(points_x/10)) \n",
    "plt.hist(points_y)"
   ]
  },
  {
   "cell_type": "markdown",
   "id": "b947097b-2270-4c66-991f-499c0575e82f",
   "metadata": {},
   "source": [
    "## Question 4 b."
   ]
  },
  {
   "cell_type": "code",
   "execution_count": 4,
   "id": "4563a69b-ad13-497e-8e79-288fd9c7f341",
   "metadata": {},
   "outputs": [],
   "source": [
    "box_filter= 1/9*np.array([[1,1,1],[1,1,1],[1,1,1]])\n",
    "arr= np.array([[7,2,1],[0,0,1],[3,2,4]])"
   ]
  },
  {
   "cell_type": "code",
   "execution_count": 5,
   "id": "e760d40b-e54e-4ede-9f10-7514a51c8ad8",
   "metadata": {},
   "outputs": [
    {
     "data": {
      "text/plain": [
       "2"
      ]
     },
     "execution_count": 5,
     "metadata": {},
     "output_type": "execute_result"
    }
   ],
   "source": [
    "round(np.sum(arr*box_filter))"
   ]
  },
  {
   "cell_type": "markdown",
   "id": "9fe32c9f",
   "metadata": {},
   "source": [
    "## Question 5 a."
   ]
  },
  {
   "cell_type": "code",
   "execution_count": 6,
   "id": "470a630e-a85c-466f-bb0d-f571f7bcde75",
   "metadata": {},
   "outputs": [],
   "source": [
    "image = np.array([[2, 5, 4, 3, 7],\n",
    "                [0, 7, 2, 1, 1],\n",
    "                [3, 0, 0, 1, 1],\n",
    "                [2, 3, 2, 4, 6],\n",
    "                [1, 2, 2, 4, 0]])"
   ]
  },
  {
   "cell_type": "code",
   "execution_count": 7,
   "id": "cc67cc15-2255-4ede-b5b9-dd0ca74a8c2c",
   "metadata": {},
   "outputs": [
    {
     "name": "stdout",
     "output_type": "stream",
     "text": [
      "[[5 2 3 4 0]\n",
      " [7 0 5 6 6]\n",
      " [4 7 7 6 6]\n",
      " [5 4 5 3 1]\n",
      " [6 5 5 3 7]]\n"
     ]
    }
   ],
   "source": [
    "negative = 7-image\n",
    "print(negative)"
   ]
  },
  {
   "cell_type": "code",
   "execution_count": 8,
   "id": "159d3843-db25-49e8-bfa9-6df49f921115",
   "metadata": {},
   "outputs": [
    {
     "data": {
      "image/png": "[encoded data removed]",
      "text/plain": [
       "<Figure size 640x480 with 1 Axes>"
      ]
     },
     "metadata": {},
     "output_type": "display_data"
    }
   ],
   "source": [
    "plt.title(\"Histogram of negative Image\")\n",
    "plt.xlabel(\"Pixel Intensity\")\n",
    "plt.ylabel(\"Frequency\")\n",
    "plt.hist(negative.flatten(), edgecolor=\"white\", bins=8) \n",
    "plt.show() "
   ]
  },
  {
   "cell_type": "markdown",
   "id": "ccfcc046",
   "metadata": {},
   "source": [
    "## Question 5 b."
   ]
  },
  {
   "cell_type": "code",
   "execution_count": 9,
   "id": "94176490",
   "metadata": {},
   "outputs": [
    {
     "data": {
      "image/png": "[encoded data removed]",
      "text/plain": [
       "<Figure size 640x480 with 1 Axes>"
      ]
     },
     "metadata": {},
     "output_type": "display_data"
    }
   ],
   "source": [
    "plt.title(\"Histogram of original Image\")\n",
    "plt.xlabel(\"Pixel Intensity\")\n",
    "plt.ylabel(\"Frequency\")\n",
    "plt.hist(image.flatten(), edgecolor=\"white\", bins=8) \n",
    "plt.show() "
   ]
  },
  {
   "cell_type": "code",
   "execution_count": 10,
   "id": "914537c1-0663-4256-af03-07cb4786d4bb",
   "metadata": {},
   "outputs": [],
   "source": [
    "def histogram_equalization(image):\n",
    "    hist, bins = np.histogram(image.flatten(), bins=8)\n",
    "    cdf = hist.cumsum()\n",
    "    cdf_normalized = (cdf - cdf.min()) * 7 / (cdf.max() - cdf.min())\n",
    "    equalized_image = np.interp(image.flatten(), bins[:-1], cdf_normalized)\n",
    "    return np.round(equalized_image.reshape(image.shape))"
   ]
  },
  {
   "cell_type": "code",
   "execution_count": 11,
   "id": "703b664f-da75-4ccf-b97e-072f0a30c1fd",
   "metadata": {},
   "outputs": [
    {
     "name": "stdout",
     "output_type": "stream",
     "text": [
      "[[4. 6. 6. 5. 7.]\n",
      " [0. 7. 4. 2. 2.]\n",
      " [5. 0. 0. 2. 2.]\n",
      " [4. 5. 4. 6. 7.]\n",
      " [2. 4. 4. 6. 0.]]\n"
     ]
    }
   ],
   "source": [
    "eq_image = histogram_equalization(image)\n",
    "print(eq_image)"
   ]
  },
  {
   "cell_type": "code",
   "execution_count": 12,
   "id": "cbf49690",
   "metadata": {},
   "outputs": [
    {
     "data": {
      "image/png": "[encoded data removed]",
      "text/plain": [
       "<Figure size 640x480 with 1 Axes>"
      ]
     },
     "metadata": {},
     "output_type": "display_data"
    }
   ],
   "source": [
    "plt.title(\"Histogram of Equalized Image\")\n",
    "plt.xlabel(\"Pixel Intensity\")\n",
    "plt.ylabel(\"Frequency\")\n",
    "plt.hist(eq_image.flatten(), edgecolor=\"white\", bins=[0,1,2,3,4,5,6,7,8]) \n",
    "plt.show() "
   ]
  },
  {
   "cell_type": "code",
   "execution_count": null,
   "id": "90085212-0b5a-4ac6-a31d-f1ba62318689",
   "metadata": {},
   "outputs": [],
   "source": []
  }
 ],
 "metadata": {
  "kernelspec": {
   "display_name": "Python 3 (ipykernel)",
   "language": "python",
   "name": "python3"
  },
  "language_info": {
   "codemirror_mode": {
    "name": "ipython",
    "version": 3
   },
   "file_extension": ".py",
   "mimetype": "text/x-python",
   "name": "python",
   "nbconvert_exporter": "python",
   "pygments_lexer": "ipython3",
   "version": "3.11.5"
  }
 },
 "nbformat": 4,
 "nbformat_minor": 5
}

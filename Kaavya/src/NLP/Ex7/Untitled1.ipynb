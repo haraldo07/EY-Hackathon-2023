{
 "cells": [
  {
   "cell_type": "code",
   "execution_count": 2,
   "id": "adc0a3cd",
   "metadata": {},
   "outputs": [],
   "source": [
    "import pandas as pd\n",
    "import numpy as np\n",
    "import nltk\n",
    "import json\n",
    "from tensorflow import keras\n",
    "import tensorflow as tf"
   ]
  },
  {
   "cell_type": "code",
   "execution_count": 3,
   "id": "0729e864",
   "metadata": {},
   "outputs": [],
   "source": [
    "def read_jsonl(filename):\n",
    "    data = []\n",
    "    with open(filename, 'r') as file:\n",
    "        for line in file:\n",
    "            data.append(json.loads(line))\n",
    "    return data\n",
    "\n",
    "filename = 'train.jsonl'\n",
    "jsonl_data = read_jsonl(filename)\n",
    "\n",
    "df = pd.DataFrame(jsonl_data)"
   ]
  },
  {
   "cell_type": "code",
   "execution_count": 5,
   "id": "05e4fd1a",
   "metadata": {},
   "outputs": [
    {
     "data": {
      "text/html": [
       "<div>\n",
       "<style scoped>\n",
       "    .dataframe tbody tr th:only-of-type {\n",
       "        vertical-align: middle;\n",
       "    }\n",
       "\n",
       "    .dataframe tbody tr th {\n",
       "        vertical-align: top;\n",
       "    }\n",
       "\n",
       "    .dataframe thead th {\n",
       "        text-align: right;\n",
       "    }\n",
       "</style>\n",
       "<table border=\"1\" class=\"dataframe\">\n",
       "  <thead>\n",
       "    <tr style=\"text-align: right;\">\n",
       "      <th></th>\n",
       "      <th>id</th>\n",
       "      <th>text</th>\n",
       "      <th>summary</th>\n",
       "    </tr>\n",
       "  </thead>\n",
       "  <tbody>\n",
       "    <tr>\n",
       "      <th>0</th>\n",
       "      <td>gigaword-train-0</td>\n",
       "      <td>australia 's current account deficit shrunk by...</td>\n",
       "      <td>australian current account deficit narrows sha...</td>\n",
       "    </tr>\n",
       "    <tr>\n",
       "      <th>1</th>\n",
       "      <td>gigaword-train-1</td>\n",
       "      <td>at least two people were killed in a suspected...</td>\n",
       "      <td>at least two dead in southern philippines blast</td>\n",
       "    </tr>\n",
       "    <tr>\n",
       "      <th>2</th>\n",
       "      <td>gigaword-train-2</td>\n",
       "      <td>australian shares closed down #.# percent mond...</td>\n",
       "      <td>australian stocks close down #.# percent</td>\n",
       "    </tr>\n",
       "    <tr>\n",
       "      <th>3</th>\n",
       "      <td>gigaword-train-3</td>\n",
       "      <td>south korea 's nuclear envoy kim sook urged no...</td>\n",
       "      <td>envoy urges north korea to restart nuclear dis...</td>\n",
       "    </tr>\n",
       "    <tr>\n",
       "      <th>4</th>\n",
       "      <td>gigaword-train-4</td>\n",
       "      <td>south korea on monday announced sweeping tax r...</td>\n",
       "      <td>skorea announces tax cuts to stimulate economy</td>\n",
       "    </tr>\n",
       "    <tr>\n",
       "      <th>...</th>\n",
       "      <td>...</td>\n",
       "      <td>...</td>\n",
       "      <td>...</td>\n",
       "    </tr>\n",
       "    <tr>\n",
       "      <th>999995</th>\n",
       "      <td>gigaword-train-999995</td>\n",
       "      <td>after proclaiming a special relationship with ...</td>\n",
       "      <td>indian leader vajpayee to meet with bush to di...</td>\n",
       "    </tr>\n",
       "    <tr>\n",
       "      <th>999996</th>\n",
       "      <td>gigaword-train-999996</td>\n",
       "      <td>a group of people expelled by the british from...</td>\n",
       "      <td>former residents of indian ocean island demand...</td>\n",
       "    </tr>\n",
       "    <tr>\n",
       "      <th>999997</th>\n",
       "      <td>gigaword-train-999997</td>\n",
       "      <td>a mix of profit-taking and cautiousness guided...</td>\n",
       "      <td>stocks lower in early trading</td>\n",
       "    </tr>\n",
       "    <tr>\n",
       "      <th>999998</th>\n",
       "      <td>gigaword-train-999998</td>\n",
       "      <td>hungary 's air carrier , malev , has grounded ...</td>\n",
       "      <td>hungarian air carrier grounds flights to bosnia</td>\n",
       "    </tr>\n",
       "    <tr>\n",
       "      <th>999999</th>\n",
       "      <td>gigaword-train-999999</td>\n",
       "      <td>a ##-year-old-girl who struck prince charles i...</td>\n",
       "      <td>teen-ager who struck prince charles with carna...</td>\n",
       "    </tr>\n",
       "  </tbody>\n",
       "</table>\n",
       "<p>1000000 rows × 3 columns</p>\n",
       "</div>"
      ],
      "text/plain": [
       "                           id  \\\n",
       "0            gigaword-train-0   \n",
       "1            gigaword-train-1   \n",
       "2            gigaword-train-2   \n",
       "3            gigaword-train-3   \n",
       "4            gigaword-train-4   \n",
       "...                       ...   \n",
       "999995  gigaword-train-999995   \n",
       "999996  gigaword-train-999996   \n",
       "999997  gigaword-train-999997   \n",
       "999998  gigaword-train-999998   \n",
       "999999  gigaword-train-999999   \n",
       "\n",
       "                                                     text  \\\n",
       "0       australia 's current account deficit shrunk by...   \n",
       "1       at least two people were killed in a suspected...   \n",
       "2       australian shares closed down #.# percent mond...   \n",
       "3       south korea 's nuclear envoy kim sook urged no...   \n",
       "4       south korea on monday announced sweeping tax r...   \n",
       "...                                                   ...   \n",
       "999995  after proclaiming a special relationship with ...   \n",
       "999996  a group of people expelled by the british from...   \n",
       "999997  a mix of profit-taking and cautiousness guided...   \n",
       "999998  hungary 's air carrier , malev , has grounded ...   \n",
       "999999  a ##-year-old-girl who struck prince charles i...   \n",
       "\n",
       "                                                  summary  \n",
       "0       australian current account deficit narrows sha...  \n",
       "1         at least two dead in southern philippines blast  \n",
       "2                australian stocks close down #.# percent  \n",
       "3       envoy urges north korea to restart nuclear dis...  \n",
       "4          skorea announces tax cuts to stimulate economy  \n",
       "...                                                   ...  \n",
       "999995  indian leader vajpayee to meet with bush to di...  \n",
       "999996  former residents of indian ocean island demand...  \n",
       "999997                      stocks lower in early trading  \n",
       "999998    hungarian air carrier grounds flights to bosnia  \n",
       "999999  teen-ager who struck prince charles with carna...  \n",
       "\n",
       "[1000000 rows x 3 columns]"
      ]
     },
     "execution_count": 5,
     "metadata": {},
     "output_type": "execute_result"
    }
   ],
   "source": [
    "df"
   ]
  },
  {
   "cell_type": "code",
   "execution_count": 6,
   "id": "a6f797ac",
   "metadata": {},
   "outputs": [],
   "source": [
    "from tensorflow.keras.preprocessing.text import Tokenizer\n",
    "from tensorflow.keras.preprocessing.sequence import pad_sequences\n",
    "from tensorflow.keras.models import Sequential\n",
    "from tensorflow.keras.layers import Embedding, SimpleRNN, GRU, LSTM, Dense"
   ]
  },
  {
   "cell_type": "code",
   "execution_count": 7,
   "id": "3b61123f",
   "metadata": {},
   "outputs": [],
   "source": [
    "tokenizer = Tokenizer()\n",
    "tokenizer.fit_on_texts(df['text'])\n",
    "sequences = tokenizer.texts_to_sequences(df['text'])\n",
    "word_index = tokenizer.word_index\n",
    "\n",
    "summary_sequences = tokenizer.texts_to_sequences(df['summary'])"
   ]
  },
  {
   "cell_type": "code",
   "execution_count": 8,
   "id": "74e853cc",
   "metadata": {},
   "outputs": [],
   "source": [
    "maxlen = 15\n",
    "data_pad = pad_sequences(sequences, maxlen=maxlen)\n",
    "\n",
    "summary_pad = pad_sequences(summary_sequences, maxlen=maxlen)\n",
    "\n",
    "embedding_dim = 50\n",
    "vocab_size = len(word_index) + 1"
   ]
  },
  {
   "cell_type": "code",
   "execution_count": 9,
   "id": "304a1f99",
   "metadata": {},
   "outputs": [
    {
     "data": {
      "text/plain": [
       "78846"
      ]
     },
     "execution_count": 9,
     "metadata": {},
     "output_type": "execute_result"
    }
   ],
   "source": [
    "vocab_size"
   ]
  },
  {
   "cell_type": "code",
   "execution_count": 10,
   "id": "8a218d27",
   "metadata": {},
   "outputs": [],
   "source": [
    "model_rnn = Sequential([\n",
    "    Embedding(maxlen, embedding_dim),\n",
    "    SimpleRNN(32, return_sequences=True),\n",
    "    Dense(vocab_size, activation='softmax')\n",
    "])\n",
    "model_rnn.compile(optimizer='adam', loss='sparse_categorical_crossentropy')"
   ]
  },
  {
   "cell_type": "code",
   "execution_count": 11,
   "id": "1b7127d7",
   "metadata": {},
   "outputs": [
    {
     "data": {
      "text/plain": [
       "78845"
      ]
     },
     "execution_count": 11,
     "metadata": {},
     "output_type": "execute_result"
    }
   ],
   "source": [
    "len(word_index)"
   ]
  },
  {
   "cell_type": "code",
   "execution_count": 14,
   "id": "453dc951",
   "metadata": {
    "scrolled": true
   },
   "outputs": [
    {
     "name": "stdout",
     "output_type": "stream",
     "text": [
      "Epoch 1/20\n",
      "31250/31250 [==============================] - 1270s 41ms/step - loss: 4.1973\n",
      "Epoch 2/20\n",
      "31250/31250 [==============================] - 1306s 42ms/step - loss: 4.1933\n",
      "Epoch 3/20\n",
      "31250/31250 [==============================] - 1294s 41ms/step - loss: 4.1903\n",
      "Epoch 4/20\n",
      "31250/31250 [==============================] - 1306s 42ms/step - loss: 4.1875\n",
      "Epoch 5/20\n",
      "31250/31250 [==============================] - 1335s 43ms/step - loss: 4.1849\n",
      "Epoch 6/20\n",
      "31250/31250 [==============================] - 1345s 43ms/step - loss: 4.1831\n",
      "Epoch 7/20\n",
      "31250/31250 [==============================] - 1374s 44ms/step - loss: 4.1821\n",
      "Epoch 8/20\n",
      "31250/31250 [==============================] - 1365s 44ms/step - loss: 4.1818\n",
      "Epoch 9/20\n",
      "31250/31250 [==============================] - 1374s 44ms/step - loss: 4.1815\n",
      "Epoch 10/20\n",
      "31250/31250 [==============================] - 1360s 44ms/step - loss: 4.1814\n",
      "Epoch 11/20\n",
      "31250/31250 [==============================] - 1370s 44ms/step - loss: 4.1820\n",
      "Epoch 12/20\n",
      "31250/31250 [==============================] - 1386s 44ms/step - loss: 4.1816\n",
      "Epoch 13/20\n",
      "31250/31250 [==============================] - 1393s 45ms/step - loss: 4.1807\n",
      "Epoch 14/20\n",
      "31250/31250 [==============================] - 1468s 47ms/step - loss: 4.1799\n",
      "Epoch 15/20\n",
      "31250/31250 [==============================] - 1447s 46ms/step - loss: 4.1792\n",
      "Epoch 16/20\n",
      "31250/31250 [==============================] - 1406s 45ms/step - loss: 4.1793\n",
      "Epoch 17/20\n",
      "31250/31250 [==============================] - 1334s 43ms/step - loss: 4.1786\n",
      "Epoch 18/20\n",
      "31250/31250 [==============================] - 1157s 37ms/step - loss: 4.1773\n",
      "Epoch 19/20\n",
      "31250/31250 [==============================] - 1035s 33ms/step - loss: 4.1762\n",
      "Epoch 20/20\n",
      "31250/31250 [==============================] - 1039s 33ms/step - loss: 4.1754\n"
     ]
    },
    {
     "data": {
      "text/plain": [
       "<keras.callbacks.History at 0x1b614b425f0>"
      ]
     },
     "execution_count": 14,
     "metadata": {},
     "output_type": "execute_result"
    }
   ],
   "source": [
    "model_rnn.fit(data_pad, summary_pad, epochs=20, batch_size=32)"
   ]
  },
  {
   "cell_type": "code",
   "execution_count": null,
   "id": "707e4e44",
   "metadata": {
    "scrolled": true
   },
   "outputs": [],
   "source": [
    "model_lstm = Sequential([\n",
    "    Embedding(input_dim=vocab_size, output_dim=embedding_dim, input_length=maxlen),\n",
    "    LSTM(32, return_sequences=True),\n",
    "    Dense(vocab_size, activation='softmax')\n",
    "])"
   ]
  },
  {
   "cell_type": "code",
   "execution_count": null,
   "id": "3f3af091-325b-4755-a2ce-517c28fb304f",
   "metadata": {},
   "outputs": [],
   "source": [
    "model_lstm.fit(data_pad, summary_pad, epochs=20, batch_size=32)"
   ]
  },
  {
   "cell_type": "code",
   "execution_count": null,
   "id": "a07056c8-44e6-417a-9075-e17fc40ad2d5",
   "metadata": {},
   "outputs": [],
   "source": [
    "model_gru = Sequential([\n",
    "    Embedding(input_dim=vocab_size, output_dim=embedding_dim, input_length=maxlen),\n",
    "    GRU(32, return_sequences=True),\n",
    "    Dense(vocab_size, activation='softmax')\n",
    "])"
   ]
  },
  {
   "cell_type": "code",
   "execution_count": null,
   "id": "426e4287-b071-4e1d-b0d4-1dc827ccef18",
   "metadata": {},
   "outputs": [],
   "source": [
    "model_gru.fit(data_pad, summary_pad, epochs=20, batch_size=32a)"
   ]
  },
  {
   "cell_type": "code",
   "execution_count": null,
   "id": "c55e7c32",
   "metadata": {},
   "outputs": [],
   "source": [
    "predicted_rnn = model_rnn.predict(data_pad)\n",
    "predicted_gru = model_gru.predict(data_pad)\n",
    "predicted_lstm = model_lstm.predict(data_pad)"
   ]
  },
  {
   "cell_type": "code",
   "execution_count": null,
   "id": "855eae71-7f75-463e-9568-44509c044bd0",
   "metadata": {},
   "outputs": [],
   "source": [
    "decoded_rnn = []\n",
    "decoded_gru = []\n",
    "decoded_lstm = []\n",
    "for i in range(len(predicted_rnn)):\n",
    "    decoded_rnn.append(' '.join([key for key, value in word_index.items() if np.argmax(predicted_rnn[i]) == value]))\n",
    "    decoded_gru.append(' '.join([key for key, value in word_index.items() if np.argmax(predicted_gru[i]) == value]))\n",
    "    decoded_lstm.append(' '.join([key for key, value in word_index.items() if np.argmax(predicted_lstm[i]) == value]))"
   ]
  },
  {
   "cell_type": "code",
   "execution_count": null,
   "id": "807c48c5-9d0f-478b-9e6c-7fc8f424f85e",
   "metadata": {},
   "outputs": [],
   "source": [
    "print(\"RNN Summary:\", decoded_rnn)\n",
    "print(\"GRU Summary:\", decoded_gru)\n",
    "print(\"LSTM Summary:\", decoded_lstm)"
   ]
  },
  {
   "cell_type": "code",
   "execution_count": null,
   "id": "97d03431-fd4d-4f4d-a77c-cfaea9a18085",
   "metadata": {},
   "outputs": [],
   "source": [
    "references = [[text.split()] for text in data['summary']]\n",
    "hypotheses_rnn = [text.split() for text in decoded_rnn]\n",
    "hypotheses_gru = [text.split() for text in decoded_gru]\n",
    "hypotheses_lstm = [text.split() for text in decoded_lstm]\n",
    "\n",
    "bleu_rnn = corpus_bleu(references, hypotheses_rnn)"
   ]
  }
 ],
 "metadata": {
  "kernelspec": {
   "display_name": "Python 3 (ipykernel)",
   "language": "python",
   "name": "python3"
  },
  "language_info": {
   "codemirror_mode": {
    "name": "ipython",
    "version": 3
   },
   "file_extension": ".py",
   "mimetype": "text/x-python",
   "name": "python",
   "nbconvert_exporter": "python",
   "pygments_lexer": "ipython3",
   "version": "3.11.5"
  }
 },
 "nbformat": 4,
 "nbformat_minor": 5
}

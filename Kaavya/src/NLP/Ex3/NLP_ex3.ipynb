{
 "cells": [
  {
   "cell_type": "code",
   "execution_count": 1,
   "id": "808e4f14",
   "metadata": {},
   "outputs": [],
   "source": [
    "import pandas as pd\n",
    "import numpy as np"
   ]
  },
  {
   "cell_type": "code",
   "execution_count": 2,
   "id": "6f88f87d",
   "metadata": {},
   "outputs": [],
   "source": [
    "sen= \"\"\"Millions go missing at China bank Two senior officials at one of China's top commercial banks have reportedly disappeared after funds\n",
    "worth up to $120m (£64m) went missing.\n",
    "The pair both worked at Bank of China in the northern city of Harbin, the South China Morning Post\n",
    "reported. The latest scandal at Bank of China will do nothing to reassure foreign investors that China's\n",
    "big four banks are ready for international listings. Government policy sees the bank listings as vital\n",
    "economic reforms. Bank of China is one of two frontrunners in the race to list overseas. The other is\n",
    "China Construction Bank. Both are expected to list abroad during 2005.\n",
    "They shared a $45bn state bailout in 2003, to help clean up their balance sheets in preparation for a\n",
    "foreign stock market debut.\n",
    "However, a report in the China-published Economic Observer said on Monday that the two banks may\n",
    "have scrapped plans to list in New York because of the cost of meeting regulatory requirements\n",
    "imposed since the Enron scandal. Bank of China is the country's biggest foreign exchange dealer, while\n",
    "China Construction Bank is the largest deposit holder. China's banking sector is burdened with at least\n",
    "$190bn of bad debt according to official data, though most observers believe the true figure is far\n",
    "higher. Officially, one in five loans is not being repaid. Attempts to strengthen internal controls and\n",
    "tighten lending policies have uncovered a succession of scandals involving embezzlement by bank\n",
    "officials and loans-for-favours. The most high-profile case involved the ex-president of Bank of China,\n",
    "Wang Xuebing, jailed for 12 years in 2003. Although, he committed the offences whilst running Bank\n",
    "of China in New York, Mr.Wang was head of China Construction Bank when the scandal broke. Earlier\n",
    "this month, a China Construction Bank branch manager was jailed for life in a separate case.\n",
    "China's banks used to act as cash offices for state enterprises and did not require checks on credit\n",
    "worthiness. The introduction of market reforms has been accompanied by attempts to modernize the\n",
    "banking sector, but links between banks and local government remain strong. Last year, China's\n",
    "premier, Wen Jiabao, targeted bank lending practices in a series of speeches, and regulators ordered\n",
    "all big loans to be scrutinized, in an attempt to cool down irresponsible lending. China's leaders see\n",
    "reforming the top four banks as vital to distribute capital to profitable companies and protect the health\n",
    "of China's economic boom. But two problems persist. First, inefficient state enterprises continue to\n",
    "receive protection from bankruptcy because they employ large numbers of people. Second, many\n",
    "questionable loans come not from the big four, but from smaller banks. Another high-profile financial\n",
    "firm, China Life, is facing shareholder lawsuits and a probe by the US Securities and Exchange\n",
    "Commission following its 2004 New York listing over its failure to disclose accounting irregularities\n",
    "at its parent company.\"\"\""
   ]
  },
  {
   "cell_type": "code",
   "execution_count": 3,
   "id": "41a71d4b",
   "metadata": {},
   "outputs": [],
   "source": [
    "import nltk"
   ]
  },
  {
   "cell_type": "code",
   "execution_count": 4,
   "id": "d6b2e426",
   "metadata": {},
   "outputs": [],
   "source": [
    "import nltk\n",
    "from nltk.corpus import stopwords\n",
    "from nltk.tokenize import word_tokenize\n",
    "from nltk.stem import SnowballStemmer, WordNetLemmatizer\n",
    "from nltk.tag import pos_tag \n",
    "from nltk.chunk import ne_chunk\n",
    "import string"
   ]
  },
  {
   "cell_type": "code",
   "execution_count": 5,
   "id": "bc61c815",
   "metadata": {},
   "outputs": [
    {
     "name": "stderr",
     "output_type": "stream",
     "text": [
      "[nltk_data] Downloading package stopwords to\n",
      "[nltk_data]     C:\\Users\\User\\AppData\\Roaming\\nltk_data...\n",
      "[nltk_data]   Package stopwords is already up-to-date!\n",
      "[nltk_data] Downloading package punkt to\n",
      "[nltk_data]     C:\\Users\\User\\AppData\\Roaming\\nltk_data...\n",
      "[nltk_data]   Package punkt is already up-to-date!\n",
      "[nltk_data] Downloading package wordnet to\n",
      "[nltk_data]     C:\\Users\\User\\AppData\\Roaming\\nltk_data...\n",
      "[nltk_data]   Package wordnet is already up-to-date!\n"
     ]
    },
    {
     "data": {
      "text/plain": [
       "True"
      ]
     },
     "execution_count": 5,
     "metadata": {},
     "output_type": "execute_result"
    }
   ],
   "source": [
    "nltk.download('stopwords')\n",
    "nltk.download('punkt')\n",
    "nltk.download('wordnet')"
   ]
  },
  {
   "cell_type": "code",
   "execution_count": 6,
   "id": "d462aa09",
   "metadata": {},
   "outputs": [
    {
     "data": {
      "text/html": [
       "<div>\n",
       "<style scoped>\n",
       "    .dataframe tbody tr th:only-of-type {\n",
       "        vertical-align: middle;\n",
       "    }\n",
       "\n",
       "    .dataframe tbody tr th {\n",
       "        vertical-align: top;\n",
       "    }\n",
       "\n",
       "    .dataframe thead th {\n",
       "        text-align: right;\n",
       "    }\n",
       "</style>\n",
       "<table border=\"1\" class=\"dataframe\">\n",
       "  <thead>\n",
       "    <tr style=\"text-align: right;\">\n",
       "      <th></th>\n",
       "      <th>text</th>\n",
       "    </tr>\n",
       "  </thead>\n",
       "  <tbody>\n",
       "    <tr>\n",
       "      <th>0</th>\n",
       "      <td>Millions go missing at China bank Two senior o...</td>\n",
       "    </tr>\n",
       "    <tr>\n",
       "      <th>1</th>\n",
       "      <td>\\nThe pair both worked at Bank of China in the...</td>\n",
       "    </tr>\n",
       "    <tr>\n",
       "      <th>2</th>\n",
       "      <td>The latest scandal at Bank of China will do n...</td>\n",
       "    </tr>\n",
       "    <tr>\n",
       "      <th>3</th>\n",
       "      <td>Government policy sees the bank listings as v...</td>\n",
       "    </tr>\n",
       "    <tr>\n",
       "      <th>4</th>\n",
       "      <td>Bank of China is one of two frontrunners in t...</td>\n",
       "    </tr>\n",
       "  </tbody>\n",
       "</table>\n",
       "</div>"
      ],
      "text/plain": [
       "                                                text\n",
       "0  Millions go missing at China bank Two senior o...\n",
       "1  \\nThe pair both worked at Bank of China in the...\n",
       "2   The latest scandal at Bank of China will do n...\n",
       "3   Government policy sees the bank listings as v...\n",
       "4   Bank of China is one of two frontrunners in t..."
      ]
     },
     "execution_count": 6,
     "metadata": {},
     "output_type": "execute_result"
    }
   ],
   "source": [
    "sentences= sen.split(sep='.')\n",
    "df= pd.DataFrame({'text': sentences})\n",
    "df.head()"
   ]
  },
  {
   "cell_type": "code",
   "execution_count": 7,
   "id": "ff8dbe07",
   "metadata": {},
   "outputs": [],
   "source": [
    "def concat_text(tokens):\n",
    "    return \" \".join([token for token in tokens])"
   ]
  },
  {
   "cell_type": "code",
   "execution_count": 8,
   "id": "b6725d2c",
   "metadata": {},
   "outputs": [
    {
     "data": {
      "text/html": [
       "<div>\n",
       "<style scoped>\n",
       "    .dataframe tbody tr th:only-of-type {\n",
       "        vertical-align: middle;\n",
       "    }\n",
       "\n",
       "    .dataframe tbody tr th {\n",
       "        vertical-align: top;\n",
       "    }\n",
       "\n",
       "    .dataframe thead th {\n",
       "        text-align: right;\n",
       "    }\n",
       "</style>\n",
       "<table border=\"1\" class=\"dataframe\">\n",
       "  <thead>\n",
       "    <tr style=\"text-align: right;\">\n",
       "      <th></th>\n",
       "      <th>text</th>\n",
       "    </tr>\n",
       "  </thead>\n",
       "  <tbody>\n",
       "    <tr>\n",
       "      <th>0</th>\n",
       "      <td>Millions go missing at China bank Two senior o...</td>\n",
       "    </tr>\n",
       "    <tr>\n",
       "      <th>1</th>\n",
       "      <td>The pair both worked at Bank of China in the n...</td>\n",
       "    </tr>\n",
       "    <tr>\n",
       "      <th>2</th>\n",
       "      <td>The latest scandal at Bank of China will do no...</td>\n",
       "    </tr>\n",
       "    <tr>\n",
       "      <th>3</th>\n",
       "      <td>Government policy sees the bank listings as vi...</td>\n",
       "    </tr>\n",
       "    <tr>\n",
       "      <th>4</th>\n",
       "      <td>Bank of China is one of two frontrunners in th...</td>\n",
       "    </tr>\n",
       "  </tbody>\n",
       "</table>\n",
       "</div>"
      ],
      "text/plain": [
       "                                                text\n",
       "0  Millions go missing at China bank Two senior o...\n",
       "1  The pair both worked at Bank of China in the n...\n",
       "2  The latest scandal at Bank of China will do no...\n",
       "3  Government policy sees the bank listings as vi...\n",
       "4  Bank of China is one of two frontrunners in th..."
      ]
     },
     "execution_count": 8,
     "metadata": {},
     "output_type": "execute_result"
    }
   ],
   "source": [
    "df['text'] = df['text'].apply(word_tokenize)\n",
    "df['text'] = df['text'].apply(concat_text)\n",
    "df.head()"
   ]
  },
  {
   "cell_type": "code",
   "execution_count": 9,
   "id": "825926ac",
   "metadata": {},
   "outputs": [],
   "source": [
    "def remove_punc(text):\n",
    "    removed_text = \"\"\n",
    "    for char in str(text.lower()):\n",
    "        if char not in string.punctuation:\n",
    "            removed_text+=char\n",
    "    return removed_text"
   ]
  },
  {
   "cell_type": "code",
   "execution_count": 10,
   "id": "c1463856",
   "metadata": {},
   "outputs": [
    {
     "data": {
      "text/html": [
       "<div>\n",
       "<style scoped>\n",
       "    .dataframe tbody tr th:only-of-type {\n",
       "        vertical-align: middle;\n",
       "    }\n",
       "\n",
       "    .dataframe tbody tr th {\n",
       "        vertical-align: top;\n",
       "    }\n",
       "\n",
       "    .dataframe thead th {\n",
       "        text-align: right;\n",
       "    }\n",
       "</style>\n",
       "<table border=\"1\" class=\"dataframe\">\n",
       "  <thead>\n",
       "    <tr style=\"text-align: right;\">\n",
       "      <th></th>\n",
       "      <th>text</th>\n",
       "      <th>Punc</th>\n",
       "    </tr>\n",
       "  </thead>\n",
       "  <tbody>\n",
       "    <tr>\n",
       "      <th>0</th>\n",
       "      <td>Millions go missing at China bank Two senior o...</td>\n",
       "      <td>millions go missing at china bank two senior o...</td>\n",
       "    </tr>\n",
       "    <tr>\n",
       "      <th>1</th>\n",
       "      <td>The pair both worked at Bank of China in the n...</td>\n",
       "      <td>the pair both worked at bank of china in the n...</td>\n",
       "    </tr>\n",
       "    <tr>\n",
       "      <th>2</th>\n",
       "      <td>The latest scandal at Bank of China will do no...</td>\n",
       "      <td>the latest scandal at bank of china will do no...</td>\n",
       "    </tr>\n",
       "    <tr>\n",
       "      <th>3</th>\n",
       "      <td>Government policy sees the bank listings as vi...</td>\n",
       "      <td>government policy sees the bank listings as vi...</td>\n",
       "    </tr>\n",
       "    <tr>\n",
       "      <th>4</th>\n",
       "      <td>Bank of China is one of two frontrunners in th...</td>\n",
       "      <td>bank of china is one of two frontrunners in th...</td>\n",
       "    </tr>\n",
       "  </tbody>\n",
       "</table>\n",
       "</div>"
      ],
      "text/plain": [
       "                                                text  \\\n",
       "0  Millions go missing at China bank Two senior o...   \n",
       "1  The pair both worked at Bank of China in the n...   \n",
       "2  The latest scandal at Bank of China will do no...   \n",
       "3  Government policy sees the bank listings as vi...   \n",
       "4  Bank of China is one of two frontrunners in th...   \n",
       "\n",
       "                                                Punc  \n",
       "0  millions go missing at china bank two senior o...  \n",
       "1  the pair both worked at bank of china in the n...  \n",
       "2  the latest scandal at bank of china will do no...  \n",
       "3  government policy sees the bank listings as vi...  \n",
       "4  bank of china is one of two frontrunners in th...  "
      ]
     },
     "execution_count": 10,
     "metadata": {},
     "output_type": "execute_result"
    }
   ],
   "source": [
    "df['Punc'] = df['text'].apply(remove_punc)\n",
    "df.head()"
   ]
  },
  {
   "cell_type": "code",
   "execution_count": 11,
   "id": "8db68d9d",
   "metadata": {},
   "outputs": [],
   "source": [
    "df= df.iloc[:25]"
   ]
  },
  {
   "cell_type": "code",
   "execution_count": 12,
   "id": "0d3b7db1",
   "metadata": {},
   "outputs": [
    {
     "name": "stdout",
     "output_type": "stream",
     "text": [
      "<class 'pandas.core.frame.DataFrame'>\n",
      "RangeIndex: 25 entries, 0 to 24\n",
      "Data columns (total 2 columns):\n",
      " #   Column  Non-Null Count  Dtype \n",
      "---  ------  --------------  ----- \n",
      " 0   text    25 non-null     object\n",
      " 1   Punc    25 non-null     object\n",
      "dtypes: object(2)\n",
      "memory usage: 532.0+ bytes\n"
     ]
    }
   ],
   "source": [
    "df.info()"
   ]
  },
  {
   "cell_type": "code",
   "execution_count": 13,
   "id": "91710132",
   "metadata": {},
   "outputs": [
    {
     "data": {
      "text/html": [
       "<div>\n",
       "<style scoped>\n",
       "    .dataframe tbody tr th:only-of-type {\n",
       "        vertical-align: middle;\n",
       "    }\n",
       "\n",
       "    .dataframe tbody tr th {\n",
       "        vertical-align: top;\n",
       "    }\n",
       "\n",
       "    .dataframe thead th {\n",
       "        text-align: right;\n",
       "    }\n",
       "</style>\n",
       "<table border=\"1\" class=\"dataframe\">\n",
       "  <thead>\n",
       "    <tr style=\"text-align: right;\">\n",
       "      <th></th>\n",
       "      <th>text</th>\n",
       "      <th>Punc</th>\n",
       "      <th>tokenized</th>\n",
       "    </tr>\n",
       "  </thead>\n",
       "  <tbody>\n",
       "    <tr>\n",
       "      <th>0</th>\n",
       "      <td>Millions go missing at China bank Two senior o...</td>\n",
       "      <td>millions go missing at china bank two senior o...</td>\n",
       "      <td>[millions, go, missing, at, china, bank, two, ...</td>\n",
       "    </tr>\n",
       "    <tr>\n",
       "      <th>1</th>\n",
       "      <td>The pair both worked at Bank of China in the n...</td>\n",
       "      <td>the pair both worked at bank of china in the n...</td>\n",
       "      <td>[the, pair, both, worked, at, bank, of, china,...</td>\n",
       "    </tr>\n",
       "    <tr>\n",
       "      <th>2</th>\n",
       "      <td>The latest scandal at Bank of China will do no...</td>\n",
       "      <td>the latest scandal at bank of china will do no...</td>\n",
       "      <td>[the, latest, scandal, at, bank, of, china, wi...</td>\n",
       "    </tr>\n",
       "    <tr>\n",
       "      <th>3</th>\n",
       "      <td>Government policy sees the bank listings as vi...</td>\n",
       "      <td>government policy sees the bank listings as vi...</td>\n",
       "      <td>[government, policy, sees, the, bank, listings...</td>\n",
       "    </tr>\n",
       "    <tr>\n",
       "      <th>4</th>\n",
       "      <td>Bank of China is one of two frontrunners in th...</td>\n",
       "      <td>bank of china is one of two frontrunners in th...</td>\n",
       "      <td>[bank, of, china, is, one, of, two, frontrunne...</td>\n",
       "    </tr>\n",
       "  </tbody>\n",
       "</table>\n",
       "</div>"
      ],
      "text/plain": [
       "                                                text  \\\n",
       "0  Millions go missing at China bank Two senior o...   \n",
       "1  The pair both worked at Bank of China in the n...   \n",
       "2  The latest scandal at Bank of China will do no...   \n",
       "3  Government policy sees the bank listings as vi...   \n",
       "4  Bank of China is one of two frontrunners in th...   \n",
       "\n",
       "                                                Punc  \\\n",
       "0  millions go missing at china bank two senior o...   \n",
       "1  the pair both worked at bank of china in the n...   \n",
       "2  the latest scandal at bank of china will do no...   \n",
       "3  government policy sees the bank listings as vi...   \n",
       "4  bank of china is one of two frontrunners in th...   \n",
       "\n",
       "                                           tokenized  \n",
       "0  [millions, go, missing, at, china, bank, two, ...  \n",
       "1  [the, pair, both, worked, at, bank, of, china,...  \n",
       "2  [the, latest, scandal, at, bank, of, china, wi...  \n",
       "3  [government, policy, sees, the, bank, listings...  \n",
       "4  [bank, of, china, is, one, of, two, frontrunne...  "
      ]
     },
     "execution_count": 13,
     "metadata": {},
     "output_type": "execute_result"
    }
   ],
   "source": [
    "df['tokenized'] = df['Punc'].apply(word_tokenize)\n",
    "df.head()"
   ]
  },
  {
   "cell_type": "code",
   "execution_count": 14,
   "id": "51d01df1",
   "metadata": {},
   "outputs": [],
   "source": [
    "def rem_stop(tokens):\n",
    "    stop_words = set(stopwords.words('english'))\n",
    "    filtered_tokens = [token for token in tokens if token.lower() not in stop_words]\n",
    "    return filtered_tokens"
   ]
  },
  {
   "cell_type": "code",
   "execution_count": 15,
   "id": "ca8fd007",
   "metadata": {},
   "outputs": [
    {
     "data": {
      "text/html": [
       "<div>\n",
       "<style scoped>\n",
       "    .dataframe tbody tr th:only-of-type {\n",
       "        vertical-align: middle;\n",
       "    }\n",
       "\n",
       "    .dataframe tbody tr th {\n",
       "        vertical-align: top;\n",
       "    }\n",
       "\n",
       "    .dataframe thead th {\n",
       "        text-align: right;\n",
       "    }\n",
       "</style>\n",
       "<table border=\"1\" class=\"dataframe\">\n",
       "  <thead>\n",
       "    <tr style=\"text-align: right;\">\n",
       "      <th></th>\n",
       "      <th>text</th>\n",
       "      <th>Punc</th>\n",
       "      <th>tokenized</th>\n",
       "      <th>stopwords</th>\n",
       "    </tr>\n",
       "  </thead>\n",
       "  <tbody>\n",
       "    <tr>\n",
       "      <th>0</th>\n",
       "      <td>Millions go missing at China bank Two senior o...</td>\n",
       "      <td>millions go missing at china bank two senior o...</td>\n",
       "      <td>[millions, go, missing, at, china, bank, two, ...</td>\n",
       "      <td>[millions, go, missing, china, bank, two, seni...</td>\n",
       "    </tr>\n",
       "    <tr>\n",
       "      <th>1</th>\n",
       "      <td>The pair both worked at Bank of China in the n...</td>\n",
       "      <td>the pair both worked at bank of china in the n...</td>\n",
       "      <td>[the, pair, both, worked, at, bank, of, china,...</td>\n",
       "      <td>[pair, worked, bank, china, northern, city, ha...</td>\n",
       "    </tr>\n",
       "    <tr>\n",
       "      <th>2</th>\n",
       "      <td>The latest scandal at Bank of China will do no...</td>\n",
       "      <td>the latest scandal at bank of china will do no...</td>\n",
       "      <td>[the, latest, scandal, at, bank, of, china, wi...</td>\n",
       "      <td>[latest, scandal, bank, china, nothing, reassu...</td>\n",
       "    </tr>\n",
       "    <tr>\n",
       "      <th>3</th>\n",
       "      <td>Government policy sees the bank listings as vi...</td>\n",
       "      <td>government policy sees the bank listings as vi...</td>\n",
       "      <td>[government, policy, sees, the, bank, listings...</td>\n",
       "      <td>[government, policy, sees, bank, listings, vit...</td>\n",
       "    </tr>\n",
       "    <tr>\n",
       "      <th>4</th>\n",
       "      <td>Bank of China is one of two frontrunners in th...</td>\n",
       "      <td>bank of china is one of two frontrunners in th...</td>\n",
       "      <td>[bank, of, china, is, one, of, two, frontrunne...</td>\n",
       "      <td>[bank, china, one, two, frontrunners, race, li...</td>\n",
       "    </tr>\n",
       "  </tbody>\n",
       "</table>\n",
       "</div>"
      ],
      "text/plain": [
       "                                                text  \\\n",
       "0  Millions go missing at China bank Two senior o...   \n",
       "1  The pair both worked at Bank of China in the n...   \n",
       "2  The latest scandal at Bank of China will do no...   \n",
       "3  Government policy sees the bank listings as vi...   \n",
       "4  Bank of China is one of two frontrunners in th...   \n",
       "\n",
       "                                                Punc  \\\n",
       "0  millions go missing at china bank two senior o...   \n",
       "1  the pair both worked at bank of china in the n...   \n",
       "2  the latest scandal at bank of china will do no...   \n",
       "3  government policy sees the bank listings as vi...   \n",
       "4  bank of china is one of two frontrunners in th...   \n",
       "\n",
       "                                           tokenized  \\\n",
       "0  [millions, go, missing, at, china, bank, two, ...   \n",
       "1  [the, pair, both, worked, at, bank, of, china,...   \n",
       "2  [the, latest, scandal, at, bank, of, china, wi...   \n",
       "3  [government, policy, sees, the, bank, listings...   \n",
       "4  [bank, of, china, is, one, of, two, frontrunne...   \n",
       "\n",
       "                                           stopwords  \n",
       "0  [millions, go, missing, china, bank, two, seni...  \n",
       "1  [pair, worked, bank, china, northern, city, ha...  \n",
       "2  [latest, scandal, bank, china, nothing, reassu...  \n",
       "3  [government, policy, sees, bank, listings, vit...  \n",
       "4  [bank, china, one, two, frontrunners, race, li...  "
      ]
     },
     "execution_count": 15,
     "metadata": {},
     "output_type": "execute_result"
    }
   ],
   "source": [
    "df['stopwords']= df['tokenized'].apply(rem_stop)\n",
    "df.head()"
   ]
  },
  {
   "cell_type": "code",
   "execution_count": 16,
   "id": "6831d6ab",
   "metadata": {},
   "outputs": [],
   "source": [
    "def lemma_tokens(tokens):\n",
    "    lemmatizer = WordNetLemmatizer()\n",
    "    tokens = [lemmatizer.lemmatize(token) for token in tokens]\n",
    "    return tokens"
   ]
  },
  {
   "cell_type": "code",
   "execution_count": 17,
   "id": "7f33e2fe",
   "metadata": {},
   "outputs": [
    {
     "data": {
      "text/html": [
       "<div>\n",
       "<style scoped>\n",
       "    .dataframe tbody tr th:only-of-type {\n",
       "        vertical-align: middle;\n",
       "    }\n",
       "\n",
       "    .dataframe tbody tr th {\n",
       "        vertical-align: top;\n",
       "    }\n",
       "\n",
       "    .dataframe thead th {\n",
       "        text-align: right;\n",
       "    }\n",
       "</style>\n",
       "<table border=\"1\" class=\"dataframe\">\n",
       "  <thead>\n",
       "    <tr style=\"text-align: right;\">\n",
       "      <th></th>\n",
       "      <th>text</th>\n",
       "      <th>Punc</th>\n",
       "      <th>tokenized</th>\n",
       "      <th>stopwords</th>\n",
       "      <th>lemma</th>\n",
       "    </tr>\n",
       "  </thead>\n",
       "  <tbody>\n",
       "    <tr>\n",
       "      <th>0</th>\n",
       "      <td>Millions go missing at China bank Two senior o...</td>\n",
       "      <td>millions go missing at china bank two senior o...</td>\n",
       "      <td>[millions, go, missing, at, china, bank, two, ...</td>\n",
       "      <td>[millions, go, missing, china, bank, two, seni...</td>\n",
       "      <td>[million, go, missing, china, bank, two, senio...</td>\n",
       "    </tr>\n",
       "    <tr>\n",
       "      <th>1</th>\n",
       "      <td>The pair both worked at Bank of China in the n...</td>\n",
       "      <td>the pair both worked at bank of china in the n...</td>\n",
       "      <td>[the, pair, both, worked, at, bank, of, china,...</td>\n",
       "      <td>[pair, worked, bank, china, northern, city, ha...</td>\n",
       "      <td>[pair, worked, bank, china, northern, city, ha...</td>\n",
       "    </tr>\n",
       "    <tr>\n",
       "      <th>2</th>\n",
       "      <td>The latest scandal at Bank of China will do no...</td>\n",
       "      <td>the latest scandal at bank of china will do no...</td>\n",
       "      <td>[the, latest, scandal, at, bank, of, china, wi...</td>\n",
       "      <td>[latest, scandal, bank, china, nothing, reassu...</td>\n",
       "      <td>[latest, scandal, bank, china, nothing, reassu...</td>\n",
       "    </tr>\n",
       "    <tr>\n",
       "      <th>3</th>\n",
       "      <td>Government policy sees the bank listings as vi...</td>\n",
       "      <td>government policy sees the bank listings as vi...</td>\n",
       "      <td>[government, policy, sees, the, bank, listings...</td>\n",
       "      <td>[government, policy, sees, bank, listings, vit...</td>\n",
       "      <td>[government, policy, see, bank, listing, vital...</td>\n",
       "    </tr>\n",
       "    <tr>\n",
       "      <th>4</th>\n",
       "      <td>Bank of China is one of two frontrunners in th...</td>\n",
       "      <td>bank of china is one of two frontrunners in th...</td>\n",
       "      <td>[bank, of, china, is, one, of, two, frontrunne...</td>\n",
       "      <td>[bank, china, one, two, frontrunners, race, li...</td>\n",
       "      <td>[bank, china, one, two, frontrunners, race, li...</td>\n",
       "    </tr>\n",
       "  </tbody>\n",
       "</table>\n",
       "</div>"
      ],
      "text/plain": [
       "                                                text  \\\n",
       "0  Millions go missing at China bank Two senior o...   \n",
       "1  The pair both worked at Bank of China in the n...   \n",
       "2  The latest scandal at Bank of China will do no...   \n",
       "3  Government policy sees the bank listings as vi...   \n",
       "4  Bank of China is one of two frontrunners in th...   \n",
       "\n",
       "                                                Punc  \\\n",
       "0  millions go missing at china bank two senior o...   \n",
       "1  the pair both worked at bank of china in the n...   \n",
       "2  the latest scandal at bank of china will do no...   \n",
       "3  government policy sees the bank listings as vi...   \n",
       "4  bank of china is one of two frontrunners in th...   \n",
       "\n",
       "                                           tokenized  \\\n",
       "0  [millions, go, missing, at, china, bank, two, ...   \n",
       "1  [the, pair, both, worked, at, bank, of, china,...   \n",
       "2  [the, latest, scandal, at, bank, of, china, wi...   \n",
       "3  [government, policy, sees, the, bank, listings...   \n",
       "4  [bank, of, china, is, one, of, two, frontrunne...   \n",
       "\n",
       "                                           stopwords  \\\n",
       "0  [millions, go, missing, china, bank, two, seni...   \n",
       "1  [pair, worked, bank, china, northern, city, ha...   \n",
       "2  [latest, scandal, bank, china, nothing, reassu...   \n",
       "3  [government, policy, sees, bank, listings, vit...   \n",
       "4  [bank, china, one, two, frontrunners, race, li...   \n",
       "\n",
       "                                               lemma  \n",
       "0  [million, go, missing, china, bank, two, senio...  \n",
       "1  [pair, worked, bank, china, northern, city, ha...  \n",
       "2  [latest, scandal, bank, china, nothing, reassu...  \n",
       "3  [government, policy, see, bank, listing, vital...  \n",
       "4  [bank, china, one, two, frontrunners, race, li...  "
      ]
     },
     "execution_count": 17,
     "metadata": {},
     "output_type": "execute_result"
    }
   ],
   "source": [
    "df['lemma'] = df['stopwords'].apply(lemma_tokens)\n",
    "df.head()"
   ]
  },
  {
   "cell_type": "code",
   "execution_count": 18,
   "id": "442ac001",
   "metadata": {},
   "outputs": [
    {
     "data": {
      "text/html": [
       "<div>\n",
       "<style scoped>\n",
       "    .dataframe tbody tr th:only-of-type {\n",
       "        vertical-align: middle;\n",
       "    }\n",
       "\n",
       "    .dataframe tbody tr th {\n",
       "        vertical-align: top;\n",
       "    }\n",
       "\n",
       "    .dataframe thead th {\n",
       "        text-align: right;\n",
       "    }\n",
       "</style>\n",
       "<table border=\"1\" class=\"dataframe\">\n",
       "  <thead>\n",
       "    <tr style=\"text-align: right;\">\n",
       "      <th></th>\n",
       "      <th>text</th>\n",
       "      <th>Punc</th>\n",
       "      <th>tokenized</th>\n",
       "      <th>stopwords</th>\n",
       "      <th>lemma</th>\n",
       "      <th>preprocessed_text</th>\n",
       "    </tr>\n",
       "  </thead>\n",
       "  <tbody>\n",
       "    <tr>\n",
       "      <th>0</th>\n",
       "      <td>Millions go missing at China bank Two senior o...</td>\n",
       "      <td>millions go missing at china bank two senior o...</td>\n",
       "      <td>[millions, go, missing, at, china, bank, two, ...</td>\n",
       "      <td>[millions, go, missing, china, bank, two, seni...</td>\n",
       "      <td>[million, go, missing, china, bank, two, senio...</td>\n",
       "      <td>million go missing china bank two senior offic...</td>\n",
       "    </tr>\n",
       "    <tr>\n",
       "      <th>1</th>\n",
       "      <td>The pair both worked at Bank of China in the n...</td>\n",
       "      <td>the pair both worked at bank of china in the n...</td>\n",
       "      <td>[the, pair, both, worked, at, bank, of, china,...</td>\n",
       "      <td>[pair, worked, bank, china, northern, city, ha...</td>\n",
       "      <td>[pair, worked, bank, china, northern, city, ha...</td>\n",
       "      <td>pair worked bank china northern city harbin so...</td>\n",
       "    </tr>\n",
       "    <tr>\n",
       "      <th>2</th>\n",
       "      <td>The latest scandal at Bank of China will do no...</td>\n",
       "      <td>the latest scandal at bank of china will do no...</td>\n",
       "      <td>[the, latest, scandal, at, bank, of, china, wi...</td>\n",
       "      <td>[latest, scandal, bank, china, nothing, reassu...</td>\n",
       "      <td>[latest, scandal, bank, china, nothing, reassu...</td>\n",
       "      <td>latest scandal bank china nothing reassure for...</td>\n",
       "    </tr>\n",
       "    <tr>\n",
       "      <th>3</th>\n",
       "      <td>Government policy sees the bank listings as vi...</td>\n",
       "      <td>government policy sees the bank listings as vi...</td>\n",
       "      <td>[government, policy, sees, the, bank, listings...</td>\n",
       "      <td>[government, policy, sees, bank, listings, vit...</td>\n",
       "      <td>[government, policy, see, bank, listing, vital...</td>\n",
       "      <td>government policy see bank listing vital econo...</td>\n",
       "    </tr>\n",
       "    <tr>\n",
       "      <th>4</th>\n",
       "      <td>Bank of China is one of two frontrunners in th...</td>\n",
       "      <td>bank of china is one of two frontrunners in th...</td>\n",
       "      <td>[bank, of, china, is, one, of, two, frontrunne...</td>\n",
       "      <td>[bank, china, one, two, frontrunners, race, li...</td>\n",
       "      <td>[bank, china, one, two, frontrunners, race, li...</td>\n",
       "      <td>bank china one two frontrunners race list over...</td>\n",
       "    </tr>\n",
       "  </tbody>\n",
       "</table>\n",
       "</div>"
      ],
      "text/plain": [
       "                                                text  \\\n",
       "0  Millions go missing at China bank Two senior o...   \n",
       "1  The pair both worked at Bank of China in the n...   \n",
       "2  The latest scandal at Bank of China will do no...   \n",
       "3  Government policy sees the bank listings as vi...   \n",
       "4  Bank of China is one of two frontrunners in th...   \n",
       "\n",
       "                                                Punc  \\\n",
       "0  millions go missing at china bank two senior o...   \n",
       "1  the pair both worked at bank of china in the n...   \n",
       "2  the latest scandal at bank of china will do no...   \n",
       "3  government policy sees the bank listings as vi...   \n",
       "4  bank of china is one of two frontrunners in th...   \n",
       "\n",
       "                                           tokenized  \\\n",
       "0  [millions, go, missing, at, china, bank, two, ...   \n",
       "1  [the, pair, both, worked, at, bank, of, china,...   \n",
       "2  [the, latest, scandal, at, bank, of, china, wi...   \n",
       "3  [government, policy, sees, the, bank, listings...   \n",
       "4  [bank, of, china, is, one, of, two, frontrunne...   \n",
       "\n",
       "                                           stopwords  \\\n",
       "0  [millions, go, missing, china, bank, two, seni...   \n",
       "1  [pair, worked, bank, china, northern, city, ha...   \n",
       "2  [latest, scandal, bank, china, nothing, reassu...   \n",
       "3  [government, policy, sees, bank, listings, vit...   \n",
       "4  [bank, china, one, two, frontrunners, race, li...   \n",
       "\n",
       "                                               lemma  \\\n",
       "0  [million, go, missing, china, bank, two, senio...   \n",
       "1  [pair, worked, bank, china, northern, city, ha...   \n",
       "2  [latest, scandal, bank, china, nothing, reassu...   \n",
       "3  [government, policy, see, bank, listing, vital...   \n",
       "4  [bank, china, one, two, frontrunners, race, li...   \n",
       "\n",
       "                                   preprocessed_text  \n",
       "0  million go missing china bank two senior offic...  \n",
       "1  pair worked bank china northern city harbin so...  \n",
       "2  latest scandal bank china nothing reassure for...  \n",
       "3  government policy see bank listing vital econo...  \n",
       "4  bank china one two frontrunners race list over...  "
      ]
     },
     "execution_count": 18,
     "metadata": {},
     "output_type": "execute_result"
    }
   ],
   "source": [
    "df['preprocessed_text'] = df['lemma'].apply(concat_text)\n",
    "df.head()"
   ]
  },
  {
   "cell_type": "code",
   "execution_count": 19,
   "id": "4e72d30f",
   "metadata": {},
   "outputs": [
    {
     "data": {
      "text/html": [
       "<div>\n",
       "<style scoped>\n",
       "    .dataframe tbody tr th:only-of-type {\n",
       "        vertical-align: middle;\n",
       "    }\n",
       "\n",
       "    .dataframe tbody tr th {\n",
       "        vertical-align: top;\n",
       "    }\n",
       "\n",
       "    .dataframe thead th {\n",
       "        text-align: right;\n",
       "    }\n",
       "</style>\n",
       "<table border=\"1\" class=\"dataframe\">\n",
       "  <thead>\n",
       "    <tr style=\"text-align: right;\">\n",
       "      <th></th>\n",
       "      <th>text</th>\n",
       "      <th>Punc</th>\n",
       "      <th>tokenized</th>\n",
       "      <th>stopwords</th>\n",
       "      <th>lemma</th>\n",
       "      <th>preprocessed_text</th>\n",
       "    </tr>\n",
       "  </thead>\n",
       "  <tbody>\n",
       "    <tr>\n",
       "      <th>0</th>\n",
       "      <td>Millions go missing at China bank Two senior o...</td>\n",
       "      <td>millions go missing at china bank two senior o...</td>\n",
       "      <td>[millions, go, missing, at, china, bank, two, ...</td>\n",
       "      <td>[millions, go, missing, china, bank, two, seni...</td>\n",
       "      <td>[million, go, missing, china, bank, two, senio...</td>\n",
       "      <td>million go missing china bank two senior offic...</td>\n",
       "    </tr>\n",
       "    <tr>\n",
       "      <th>1</th>\n",
       "      <td>The pair both worked at Bank of China in the n...</td>\n",
       "      <td>the pair both worked at bank of china in the n...</td>\n",
       "      <td>[the, pair, both, worked, at, bank, of, china,...</td>\n",
       "      <td>[pair, worked, bank, china, northern, city, ha...</td>\n",
       "      <td>[pair, worked, bank, china, northern, city, ha...</td>\n",
       "      <td>pair worked bank china northern city harbin so...</td>\n",
       "    </tr>\n",
       "    <tr>\n",
       "      <th>2</th>\n",
       "      <td>The latest scandal at Bank of China will do no...</td>\n",
       "      <td>the latest scandal at bank of china will do no...</td>\n",
       "      <td>[the, latest, scandal, at, bank, of, china, wi...</td>\n",
       "      <td>[latest, scandal, bank, china, nothing, reassu...</td>\n",
       "      <td>[latest, scandal, bank, china, nothing, reassu...</td>\n",
       "      <td>latest scandal bank china nothing reassure for...</td>\n",
       "    </tr>\n",
       "    <tr>\n",
       "      <th>3</th>\n",
       "      <td>Government policy sees the bank listings as vi...</td>\n",
       "      <td>government policy sees the bank listings as vi...</td>\n",
       "      <td>[government, policy, sees, the, bank, listings...</td>\n",
       "      <td>[government, policy, sees, bank, listings, vit...</td>\n",
       "      <td>[government, policy, see, bank, listing, vital...</td>\n",
       "      <td>government policy see bank listing vital econo...</td>\n",
       "    </tr>\n",
       "    <tr>\n",
       "      <th>4</th>\n",
       "      <td>Bank of China is one of two frontrunners in th...</td>\n",
       "      <td>bank of china is one of two frontrunners in th...</td>\n",
       "      <td>[bank, of, china, is, one, of, two, frontrunne...</td>\n",
       "      <td>[bank, china, one, two, frontrunners, race, li...</td>\n",
       "      <td>[bank, china, one, two, frontrunners, race, li...</td>\n",
       "      <td>bank china one two frontrunners race list over...</td>\n",
       "    </tr>\n",
       "  </tbody>\n",
       "</table>\n",
       "</div>"
      ],
      "text/plain": [
       "                                                text  \\\n",
       "0  Millions go missing at China bank Two senior o...   \n",
       "1  The pair both worked at Bank of China in the n...   \n",
       "2  The latest scandal at Bank of China will do no...   \n",
       "3  Government policy sees the bank listings as vi...   \n",
       "4  Bank of China is one of two frontrunners in th...   \n",
       "\n",
       "                                                Punc  \\\n",
       "0  millions go missing at china bank two senior o...   \n",
       "1  the pair both worked at bank of china in the n...   \n",
       "2  the latest scandal at bank of china will do no...   \n",
       "3  government policy sees the bank listings as vi...   \n",
       "4  bank of china is one of two frontrunners in th...   \n",
       "\n",
       "                                           tokenized  \\\n",
       "0  [millions, go, missing, at, china, bank, two, ...   \n",
       "1  [the, pair, both, worked, at, bank, of, china,...   \n",
       "2  [the, latest, scandal, at, bank, of, china, wi...   \n",
       "3  [government, policy, sees, the, bank, listings...   \n",
       "4  [bank, of, china, is, one, of, two, frontrunne...   \n",
       "\n",
       "                                           stopwords  \\\n",
       "0  [millions, go, missing, china, bank, two, seni...   \n",
       "1  [pair, worked, bank, china, northern, city, ha...   \n",
       "2  [latest, scandal, bank, china, nothing, reassu...   \n",
       "3  [government, policy, sees, bank, listings, vit...   \n",
       "4  [bank, china, one, two, frontrunners, race, li...   \n",
       "\n",
       "                                               lemma  \\\n",
       "0  [million, go, missing, china, bank, two, senio...   \n",
       "1  [pair, worked, bank, china, northern, city, ha...   \n",
       "2  [latest, scandal, bank, china, nothing, reassu...   \n",
       "3  [government, policy, see, bank, listing, vital...   \n",
       "4  [bank, china, one, two, frontrunners, race, li...   \n",
       "\n",
       "                                   preprocessed_text  \n",
       "0  million go missing china bank two senior offic...  \n",
       "1  pair worked bank china northern city harbin so...  \n",
       "2  latest scandal bank china nothing reassure for...  \n",
       "3  government policy see bank listing vital econo...  \n",
       "4  bank china one two frontrunners race list over...  "
      ]
     },
     "execution_count": 19,
     "metadata": {},
     "output_type": "execute_result"
    }
   ],
   "source": [
    "df.head()"
   ]
  },
  {
   "cell_type": "markdown",
   "id": "587dee9b",
   "metadata": {},
   "source": [
    "# Summary for BOW"
   ]
  },
  {
   "cell_type": "code",
   "execution_count": 20,
   "id": "be29888f",
   "metadata": {},
   "outputs": [
    {
     "data": {
      "text/plain": [
       "<25x214 sparse matrix of type '<class 'numpy.int64'>'\n",
       "\twith 301 stored elements in Compressed Sparse Row format>"
      ]
     },
     "execution_count": 20,
     "metadata": {},
     "output_type": "execute_result"
    }
   ],
   "source": [
    "from sklearn.feature_extraction.text import CountVectorizer\n",
    "cv = CountVectorizer()\n",
    "count_matrix = cv.fit_transform(df['preprocessed_text'].values.tolist())\n",
    "count_matrix"
   ]
  },
  {
   "cell_type": "code",
   "execution_count": 21,
   "id": "a604c56e",
   "metadata": {},
   "outputs": [],
   "source": [
    "from sklearn.metrics.pairwise import cosine_similarity\n",
    "cosine_sim_bow = cosine_similarity(count_matrix, count_matrix)"
   ]
  },
  {
   "cell_type": "code",
   "execution_count": 22,
   "id": "a81f4248",
   "metadata": {},
   "outputs": [],
   "source": [
    "def get_summary(doc_index, similarity_matrix, documents, threshold=0.2):\n",
    "    summary = \" \"\n",
    "    similar_indices = (similarity_matrix[doc_index] > threshold).nonzero()[0]\n",
    "    similar_documents = documents[similar_indices].tolist()\n",
    "    for i in similar_documents:\n",
    "        summary = summary+ i + \". \"\n",
    "    return summary"
   ]
  },
  {
   "cell_type": "code",
   "execution_count": 23,
   "id": "1b6ad859",
   "metadata": {},
   "outputs": [
    {
     "name": "stdout",
     "output_type": "stream",
     "text": [
      " Millions go missing at China bank Two senior officials at one of China 's top commercial banks have reportedly disappeared after funds worth up to $ 120m ( £64m ) went missing. The pair both worked at Bank of China in the northern city of Harbin , the South China Morning Post reported. The latest scandal at Bank of China will do nothing to reassure foreign investors that China's big four banks are ready for international listings. Bank of China is one of two frontrunners in the race to list overseas. The other is China Construction Bank. Bank of China is the country 's biggest foreign exchange dealer , while China Construction Bank is the largest deposit holder. Wang was head of China Construction Bank when the scandal broke. China 's banks used to act as cash offices for state enterprises and did not require checks on credit worthiness. \n"
     ]
    }
   ],
   "source": [
    "document_index = 17\n",
    "summary_bow = get_summary(document_index, cosine_sim_bow, df['text'])\n",
    "\n",
    "print(summary_bow)"
   ]
  },
  {
   "cell_type": "markdown",
   "id": "935edfe7",
   "metadata": {},
   "source": [
    "# Summary for TFIDF"
   ]
  },
  {
   "cell_type": "code",
   "execution_count": 24,
   "id": "6bade696",
   "metadata": {},
   "outputs": [
    {
     "data": {
      "text/plain": [
       "<25x214 sparse matrix of type '<class 'numpy.float64'>'\n",
       "\twith 301 stored elements in Compressed Sparse Row format>"
      ]
     },
     "execution_count": 24,
     "metadata": {},
     "output_type": "execute_result"
    }
   ],
   "source": [
    "from sklearn.feature_extraction.text import TfidfVectorizer\n",
    "tfidf= TfidfVectorizer()\n",
    "tfidf_matrix = tfidf.fit_transform(df['preprocessed_text'].values.tolist())\n",
    "tfidf_matrix"
   ]
  },
  {
   "cell_type": "code",
   "execution_count": 25,
   "id": "d675864c",
   "metadata": {},
   "outputs": [
    {
     "name": "stdout",
     "output_type": "stream",
     "text": [
      " Millions go missing at China bank Two senior officials at one of China 's top commercial banks have reportedly disappeared after funds worth up to $ 120m ( £64m ) went missing. The pair both worked at Bank of China in the northern city of Harbin , the South China Morning Post reported. The latest scandal at Bank of China will do nothing to reassure foreign investors that China's big four banks are ready for international listings. Bank of China is one of two frontrunners in the race to list overseas. The other is China Construction Bank. They shared a $ 45bn state bailout in 2003 , to help clean up their balance sheets in preparation for a foreign stock market debut. Bank of China is the country 's biggest foreign exchange dealer , while China Construction Bank is the largest deposit holder. The most high-profile case involved the ex-president of Bank of China , Wang Xuebing , jailed for 12 years in 2003. Although , he committed the offences whilst running Bank of China in New York , Mr. Wang was head of China Construction Bank when the scandal broke. Earlier this month , a China Construction Bank branch manager was jailed for life in a separate case. China 's banks used to act as cash offices for state enterprises and did not require checks on credit worthiness. China 's leaders see reforming the top four banks as vital to distribute capital to profitable companies and protect the health of China 's economic boom. First , inefficient state enterprises continue to receive protection from bankruptcy because they employ large numbers of people. \n"
     ]
    }
   ],
   "source": [
    "cosine_sim_tfidf = cosine_similarity(tfidf_matrix, tfidf_matrix)\n",
    "document_index = 17\n",
    "summary_tfidf = get_summary(document_index, cosine_sim_tfidf, df['text'], threshold=0.03)\n",
    "\n",
    "print(summary_tfidf)"
   ]
  },
  {
   "cell_type": "markdown",
   "id": "3c650ca2-fcf2-4388-a803-f6aedf935d10",
   "metadata": {},
   "source": [
    "# Summary for CBOW"
   ]
  },
  {
   "cell_type": "code",
   "execution_count": 26,
   "id": "37db1558",
   "metadata": {},
   "outputs": [
    {
     "name": "stderr",
     "output_type": "stream",
     "text": [
      "C:\\Users\\User\\miniconda3\\Lib\\site-packages\\paramiko\\transport.py:219: CryptographyDeprecationWarning: Blowfish has been deprecated\n",
      "  \"class\": algorithms.Blowfish,\n"
     ]
    }
   ],
   "source": [
    "from gensim.models.word2vec import Word2Vec\n",
    "\n",
    "cbow = Word2Vec(df['preprocessed_text'], vector_size=150, window=5, min_count=2, sg=0)\n",
    "vocab = cbow.wv.index_to_key\n",
    "\n",
    "def get_mean_vector(model, sentence):\n",
    "    words = [word for word in sentence if word in vocab]\n",
    "    if len(words) >= 1:\n",
    "        return np.mean(model.wv[words], axis=0)\n",
    "    return np.zeros((150,))\n",
    "\n",
    "cbow_vector = [get_mean_vector(cbow, sentence) for sentence in df['preprocessed_text']]"
   ]
  },
  {
   "cell_type": "code",
   "execution_count": 27,
   "id": "50cd84b2-7c33-47d2-9854-5f3eb1930d68",
   "metadata": {},
   "outputs": [
    {
     "name": "stdout",
     "output_type": "stream",
     "text": [
      " Bank of China is one of two frontrunners in the race to list overseas. They shared a $ 45bn state bailout in 2003 , to help clean up their balance sheets in preparation for a foreign stock market debut. However , a report in the China-published Economic Observer said on Monday that the two banks may have scrapped plans to list in New York because of the cost of meeting regulatory requirements imposed since the Enron scandal. Bank of China is the country 's biggest foreign exchange dealer , while China Construction Bank is the largest deposit holder. China 's banking sector is burdened with at least $ 190bn of bad debt according to official data , though most observers believe the true figure is far higher. Earlier this month , a China Construction Bank branch manager was jailed for life in a separate case. China 's banks used to act as cash offices for state enterprises and did not require checks on credit worthiness. Last year , China's premier , Wen Jiabao , targeted bank lending practices in a series of speeches , and regulators ordered all big loans to be scrutinized , in an attempt to cool down irresponsible lending. First , inefficient state enterprises continue to receive protection from bankruptcy because they employ large numbers of people. \n"
     ]
    }
   ],
   "source": [
    "cosine_sim_cbow = cosine_similarity(cbow_vector, cbow_vector)\n",
    "document_index = 17\n",
    "summary_cbow = get_summary(document_index, cosine_sim_cbow, df['text'], threshold=0.99999)\n",
    "\n",
    "print(summary_cbow)"
   ]
  },
  {
   "cell_type": "markdown",
   "id": "b60f62e2-e135-44ce-9407-e627974842d5",
   "metadata": {},
   "source": [
    "# Summary for Skipgram"
   ]
  },
  {
   "cell_type": "code",
   "execution_count": 28,
   "id": "537115ab-f66c-4605-9833-53c220685f02",
   "metadata": {},
   "outputs": [],
   "source": [
    "sg = Word2Vec(df['preprocessed_text'].values.tolist(), vector_size=150, window=5, min_count=2, sg=1)\n",
    "vocab = sg.wv.index_to_key\n",
    "\n",
    "def get_mean_vector(model, sentence):\n",
    "    words = [word for word in sentence if word in vocab]\n",
    "    if len(words) >= 1:\n",
    "        return np.mean(model.wv[words], axis=0)\n",
    "    return np.zeros((150,))\n",
    "\n",
    "sg_vector = []\n",
    "for sentence in df['preprocessed_text'].values.tolist():\n",
    "    sg_vector.append(get_mean_vector(sg, sentence))\n",
    "\n",
    "sg_vector = np.array(sg_vector)"
   ]
  },
  {
   "cell_type": "code",
   "execution_count": 29,
   "id": "0a091b65-4848-4bbf-8f33-da2bc42fb324",
   "metadata": {},
   "outputs": [
    {
     "name": "stdout",
     "output_type": "stream",
     "text": [
      " Bank of China is one of two frontrunners in the race to list overseas. They shared a $ 45bn state bailout in 2003 , to help clean up their balance sheets in preparation for a foreign stock market debut. However , a report in the China-published Economic Observer said on Monday that the two banks may have scrapped plans to list in New York because of the cost of meeting regulatory requirements imposed since the Enron scandal. Bank of China is the country 's biggest foreign exchange dealer , while China Construction Bank is the largest deposit holder. China 's banking sector is burdened with at least $ 190bn of bad debt according to official data , though most observers believe the true figure is far higher. Earlier this month , a China Construction Bank branch manager was jailed for life in a separate case. China 's banks used to act as cash offices for state enterprises and did not require checks on credit worthiness. Last year , China's premier , Wen Jiabao , targeted bank lending practices in a series of speeches , and regulators ordered all big loans to be scrutinized , in an attempt to cool down irresponsible lending. First , inefficient state enterprises continue to receive protection from bankruptcy because they employ large numbers of people. \n"
     ]
    }
   ],
   "source": [
    "cosine_sim_sg = cosine_similarity(sg_vector, sg_vector)\n",
    "document_index = 17\n",
    "summary_sg = get_summary(document_index, cosine_sim_sg, df['text'], threshold=0.999987)\n",
    "\n",
    "print(summary_sg)"
   ]
  },
  {
   "cell_type": "markdown",
   "id": "128dfec7-f237-4d22-9d28-3c074432a169",
   "metadata": {},
   "source": [
    "# Summary for Word2Vec"
   ]
  },
  {
   "cell_type": "code",
   "execution_count": 30,
   "id": "92146495-6947-41dd-b327-215bae50982b",
   "metadata": {},
   "outputs": [],
   "source": [
    "w2v_vector = (cbow_vector+sg_vector)/2"
   ]
  },
  {
   "cell_type": "code",
   "execution_count": 31,
   "id": "86e77ec7-8e54-4e8b-8715-f5b2095b32f5",
   "metadata": {},
   "outputs": [
    {
     "name": "stdout",
     "output_type": "stream",
     "text": [
      " Bank of China is one of two frontrunners in the race to list overseas. They shared a $ 45bn state bailout in 2003 , to help clean up their balance sheets in preparation for a foreign stock market debut. However , a report in the China-published Economic Observer said on Monday that the two banks may have scrapped plans to list in New York because of the cost of meeting regulatory requirements imposed since the Enron scandal. Bank of China is the country 's biggest foreign exchange dealer , while China Construction Bank is the largest deposit holder. China 's banking sector is burdened with at least $ 190bn of bad debt according to official data , though most observers believe the true figure is far higher. Earlier this month , a China Construction Bank branch manager was jailed for life in a separate case. China 's banks used to act as cash offices for state enterprises and did not require checks on credit worthiness. Last year , China's premier , Wen Jiabao , targeted bank lending practices in a series of speeches , and regulators ordered all big loans to be scrutinized , in an attempt to cool down irresponsible lending. First , inefficient state enterprises continue to receive protection from bankruptcy because they employ large numbers of people. \n"
     ]
    }
   ],
   "source": [
    "cosine_sim_w2v = cosine_similarity(w2v_vector, w2v_vector)\n",
    "document_index = 17\n",
    "summary_w2v = get_summary(document_index, cosine_sim_w2v, df['text'], threshold= 0.03)\n",
    "\n",
    "print(summary_sg)"
   ]
  },
  {
   "cell_type": "markdown",
   "id": "bf3cc603-ce0c-44eb-893f-cb80807eaedf",
   "metadata": {},
   "source": [
    "# Summary for GloVe"
   ]
  },
  {
   "cell_type": "code",
   "execution_count": 32,
   "id": "63e34532-f787-452f-ba5f-14e953748045",
   "metadata": {},
   "outputs": [
    {
     "name": "stderr",
     "output_type": "stream",
     "text": [
      "C:\\Users\\User\\AppData\\Local\\Temp\\ipykernel_17160\\4169749988.py:7: DeprecationWarning: Call to deprecated `glove2word2vec` (KeyedVectors.load_word2vec_format(.., binary=False, no_header=True) loads GLoVE text vectors.).\n",
      "  glove2word2vec(glove_input_file=glove_vectors_file, word2vec_output_file=temp_word2vec_file)\n"
     ]
    }
   ],
   "source": [
    "from gensim.models import KeyedVectors\n",
    "from gensim.scripts.glove2word2vec import glove2word2vec\n",
    "\n",
    "glove_vectors_file = r'E:\\NLP Lab\\glove\\glove.6B.100d.txt'\n",
    "\n",
    "temp_word2vec_file = \"temp_word2vec_file.txt\"\n",
    "glove2word2vec(glove_input_file=glove_vectors_file, word2vec_output_file=temp_word2vec_file)\n",
    "\n",
    "glove_model = KeyedVectors.load_word2vec_format(temp_word2vec_file, binary=False)\n",
    "\n",
    "\n",
    "def get_doc_vector(doc, model):\n",
    "    vectors = []\n",
    "    for word in doc:\n",
    "        if word in model:\n",
    "            vectors.append(model[word])\n",
    "    if vectors:\n",
    "        return np.mean(vectors, axis=0)\n",
    "    else:\n",
    "        return np.zeros(model.vector_size)\n",
    "\n",
    "doc_vectors = np.array([get_doc_vector(doc, glove_model) for doc in df['preprocessed_text']])"
   ]
  },
  {
   "cell_type": "code",
   "execution_count": 33,
   "id": "a35b46ed-5254-40df-a43b-2114d7d31256",
   "metadata": {},
   "outputs": [
    {
     "name": "stdout",
     "output_type": "stream",
     "text": [
      " The pair both worked at Bank of China in the northern city of Harbin , the South China Morning Post reported. The latest scandal at Bank of China will do nothing to reassure foreign investors that China's big four banks are ready for international listings. Government policy sees the bank listings as vital economic reforms. Bank of China is one of two frontrunners in the race to list overseas. They shared a $ 45bn state bailout in 2003 , to help clean up their balance sheets in preparation for a foreign stock market debut. However , a report in the China-published Economic Observer said on Monday that the two banks may have scrapped plans to list in New York because of the cost of meeting regulatory requirements imposed since the Enron scandal. Bank of China is the country 's biggest foreign exchange dealer , while China Construction Bank is the largest deposit holder. China 's banking sector is burdened with at least $ 190bn of bad debt according to official data , though most observers believe the true figure is far higher. Attempts to strengthen internal controls and tighten lending policies have uncovered a succession of scandals involving embezzlement by bank officials and loans-for-favours. Earlier this month , a China Construction Bank branch manager was jailed for life in a separate case. China 's banks used to act as cash offices for state enterprises and did not require checks on credit worthiness. The introduction of market reforms has been accompanied by attempts to modernize the banking sector , but links between banks and local government remain strong. Last year , China's premier , Wen Jiabao , targeted bank lending practices in a series of speeches , and regulators ordered all big loans to be scrutinized , in an attempt to cool down irresponsible lending. China 's leaders see reforming the top four banks as vital to distribute capital to profitable companies and protect the health of China 's economic boom. First , inefficient state enterprises continue to receive protection from bankruptcy because they employ large numbers of people. Another high-profile financial firm , China Life , is facing shareholder lawsuits and a probe by the US Securities and Exchange Commission following its 2004 New York listing over its failure to disclose accounting irregularities at its parent company. \n"
     ]
    }
   ],
   "source": [
    "cosine_sim_glove = cosine_similarity(doc_vectors, doc_vectors)\n",
    "document_index = 17\n",
    "summary_glove = get_summary(document_index, cosine_sim_glove, df['text'], threshold=0.987)\n",
    "\n",
    "print(summary_glove)"
   ]
  },
  {
   "cell_type": "markdown",
   "id": "41f3a384-8b98-4408-acb1-a48a0222c180",
   "metadata": {},
   "source": [
    "# Summary for FastText"
   ]
  },
  {
   "cell_type": "code",
   "execution_count": 34,
   "id": "9737c105-f00d-4cb8-9fb7-fb4e310bc3ba",
   "metadata": {},
   "outputs": [],
   "source": [
    "from gensim.models import FastText\n",
    "ft=FastText(df['preprocessed_text'].values.tolist(),vector_size=100,window=5,min_count=1,workers=4)\n",
    "similar=ft.wv.most_similar('bank')\n",
    "\n",
    "def get_mean_vector(model, sentence):\n",
    "    words = [word for word in sentence if word in vocab]\n",
    "    if len(words) >= 1:\n",
    "        return np.mean(model.wv[words], axis=0)\n",
    "    return np.zeros((100,))\n",
    "\n",
    "ft_vector = []\n",
    "for sentence in df['preprocessed_text'].values.tolist():\n",
    "    ft_vector.append(get_mean_vector(ft, sentence))\n",
    "\n",
    "ft_vector = np.array(ft_vector)"
   ]
  },
  {
   "cell_type": "code",
   "execution_count": 35,
   "id": "9fba1992-dfc9-4226-b840-51e5c66584a4",
   "metadata": {},
   "outputs": [
    {
     "name": "stdout",
     "output_type": "stream",
     "text": [
      " The latest scandal at Bank of China will do nothing to reassure foreign investors that China's big four banks are ready for international listings. Bank of China is one of two frontrunners in the race to list overseas. They shared a $ 45bn state bailout in 2003 , to help clean up their balance sheets in preparation for a foreign stock market debut. However , a report in the China-published Economic Observer said on Monday that the two banks may have scrapped plans to list in New York because of the cost of meeting regulatory requirements imposed since the Enron scandal. Bank of China is the country 's biggest foreign exchange dealer , while China Construction Bank is the largest deposit holder. China 's banking sector is burdened with at least $ 190bn of bad debt according to official data , though most observers believe the true figure is far higher. Earlier this month , a China Construction Bank branch manager was jailed for life in a separate case. China 's banks used to act as cash offices for state enterprises and did not require checks on credit worthiness. Last year , China's premier , Wen Jiabao , targeted bank lending practices in a series of speeches , and regulators ordered all big loans to be scrutinized , in an attempt to cool down irresponsible lending. China 's leaders see reforming the top four banks as vital to distribute capital to profitable companies and protect the health of China 's economic boom. First , inefficient state enterprises continue to receive protection from bankruptcy because they employ large numbers of people. Another high-profile financial firm , China Life , is facing shareholder lawsuits and a probe by the US Securities and Exchange Commission following its 2004 New York listing over its failure to disclose accounting irregularities at its parent company. \n"
     ]
    }
   ],
   "source": [
    "cosine_sim_ft = cosine_similarity(ft_vector, ft_vector)\n",
    "document_index = 17\n",
    "summary_ft = get_summary(document_index, cosine_sim_ft, df['text'], threshold=0.99999)\n",
    "\n",
    "print(summary_ft)"
   ]
  },
  {
   "cell_type": "code",
   "execution_count": null,
   "id": "382608dc-ff66-4093-ac79-43100c9783ed",
   "metadata": {},
   "outputs": [],
   "source": []
  }
 ],
 "metadata": {
  "kernelspec": {
   "display_name": "Python 3 (ipykernel)",
   "language": "python",
   "name": "python3"
  },
  "language_info": {
   "codemirror_mode": {
    "name": "ipython",
    "version": 3
   },
   "file_extension": ".py",
   "mimetype": "text/x-python",
   "name": "python",
   "nbconvert_exporter": "python",
   "pygments_lexer": "ipython3",
   "version": "3.11.5"
  }
 },
 "nbformat": 4,
 "nbformat_minor": 5
}

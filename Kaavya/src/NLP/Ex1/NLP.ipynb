{
 "cells": [
  {
   "cell_type": "code",
   "execution_count": 16,
   "id": "160d3ab0-9e21-46c2-9c68-84839f35fe34",
   "metadata": {},
   "outputs": [],
   "source": [
    "import nltk\n",
    "from nltk.util importw ngrams\n",
    "from nltk.metrics.distance import edit_distance\n",
    "from nltk.corpus import words\n",
    "from nltk.corpus import reuters"
   ]
  },
  {
   "cell_type": "code",
   "execution_count": 17,
   "id": "ba90e996-a7c7-4a49-8268-a2ce3b87ec73",
   "metadata": {},
   "outputs": [
    {
     "name": "stderr",
     "output_type": "stream",
     "text": [
      "[nltk_data] Downloading package punkt to\n",
      "[nltk_data]     C:\\Users\\User\\AppData\\Roaming\\nltk_data...\n",
      "[nltk_data]   Package punkt is already up-to-date!\n",
      "[nltk_data] Downloading package words to\n",
      "[nltk_data]     C:\\Users\\User\\AppData\\Roaming\\nltk_data...\n",
      "[nltk_data]   Package words is already up-to-date!\n",
      "[nltk_data] Downloading package reuters to\n",
      "[nltk_data]     C:\\Users\\User\\AppData\\Roaming\\nltk_data...\n"
     ]
    },
    {
     "data": {
      "text/plain": [
       "True"
      ]
     },
     "execution_count": 17,
     "metadata": {},
     "output_type": "execute_result"
    }
   ],
   "source": [
    "nltk.download('punkt')\n",
    "nltk.download('words')\n",
    "nltk.download(\"reuters\")"
   ]
  },
  {
   "cell_type": "code",
   "execution_count": 21,
   "id": "1d6037e9-2211-4881-ad5d-8720157ff4c6",
   "metadata": {},
   "outputs": [],
   "source": [
    "def train_ngram_model(n):\n",
    "    words = reuters.words(categories=\"trade\")\n",
    "    ngrams_model = list(ngrams(words, n))\n",
    "    return ngrams_model"
   ]
  },
  {
   "cell_type": "code",
   "execution_count": 28,
   "id": "fceb5d48-6468-4ede-a366-70c904870e01",
   "metadata": {},
   "outputs": [],
   "source": [
    "def next_word_prediction(context, ngrams_model, n, candidates):\n",
    "    context_tokens = nltk.word_tokenize(context)\n",
    "    context_ngram = tuple(context_tokens[-n:])\n",
    "    \n",
    "    next_word_candidates = candidates\n",
    "\n",
    "    predicted_word = max(set(next_word_candidates), key=next_word_candidates.count)\n",
    "    \n",
    "    return predicted_word"
   ]
  },
  {
   "cell_type": "code",
   "execution_count": 25,
   "id": "1d77e00e-0528-4d02-93b2-c0395ab2cad2",
   "metadata": {},
   "outputs": [],
   "source": [
    "unigram_model = train_ngram_model(1)\n",
    "bigram_model = train_ngram_model(2)\n",
    "trigram_model = train_ngram_model(3)"
   ]
  },
  {
   "cell_type": "code",
   "execution_count": 33,
   "id": "8677875c-52b3-4a74-a937-121e41de3f8e",
   "metadata": {},
   "outputs": [
    {
     "name": "stdout",
     "output_type": "stream",
     "text": [
      "Mr Patrick is our new principal\n"
     ]
    }
   ],
   "source": [
    "input_text = \"Mr Patrick is our new\"\n",
    "predicted_word = next_word_prediction(input_text, unigram_model, 2, ['principal', 'principle'])\n",
    "print(input_text+\" \"+predicted_word)"
   ]
  },
  {
   "cell_type": "code",
   "execution_count": 41,
   "id": "e03c3145-1204-4e82-bb67-0955f563a016",
   "metadata": {},
   "outputs": [
    {
     "name": "stdout",
     "output_type": "stream",
     "text": [
      "The company all the terms. expected\n"
     ]
    }
   ],
   "source": [
    "input_text = \"The company all the terms.\"\n",
    "predicted_word = next_word_prediction(input_text, unigram_model, 2, ['expected', 'accepted'])\n",
    "print(input_text+\" \"+predicted_word)"
   ]
  },
  {
   "cell_type": "code",
   "execution_count": 40,
   "id": "fa0e36f8-2c0e-407c-bde1-2367a4595381",
   "metadata": {},
   "outputs": [
    {
     "name": "stdout",
     "output_type": "stream",
     "text": [
      "Please don’t keep your dog on the loose\n"
     ]
    }
   ],
   "source": [
    "input_text = \"Please don’t keep your dog on the\"\n",
    "predicted_word = next_word_prediction(input_text, unigram_model, 2, ['lose', 'loose'])\n",
    "print(input_text+\" \"+predicted_word)"
   ]
  },
  {
   "cell_type": "code",
   "execution_count": null,
   "id": "626dca9d-9cf0-4281-93dd-2c7e2b549aa8",
   "metadata": {},
   "outputs": [],
   "source": []
  }
 ],
 "metadata": {
  "kernelspec": {
   "display_name": "Python 3 (ipykernel)",
   "language": "python",
   "name": "python3"
  },
  "language_info": {
   "codemirror_mode": {
    "name": "ipython",
    "version": 3
   },
   "file_extension": ".py",
   "mimetype": "text/x-python",
   "name": "python",
   "nbconvert_exporter": "python",
   "pygments_lexer": "ipython3",
   "version": "3.11.5"
  }
 },
 "nbformat": 4,
 "nbformat_minor": 5
}

{
 "cells": [
  {
   "cell_type": "code",
   "execution_count": 1,
   "id": "aa883b7a-998f-41d9-8df8-802498157f15",
   "metadata": {},
   "outputs": [],
   "source": [
    "from pyspark.sql import SparkSession\n",
    "from pyspark.sql.functions import avg\n",
    "from pyspark.sql.functions import sum"
   ]
  },
  {
   "cell_type": "code",
   "execution_count": 2,
   "id": "3636949f-4099-4c60-8782-314d3d75483f",
   "metadata": {},
   "outputs": [
    {
     "name": "stdout",
     "output_type": "stream",
     "text": [
      "24/11/07 13:34:02 WARN Utils: Your hostname, snucse-HP-Pro-Tower-400-G9-PCI-Desktop-PC resolves to a loopback address: 127.0.1.1; using 10.23.22.95 instead (on interface eno1)\n",
      "24/11/07 13:34:02 WARN Utils: Set SPARK_LOCAL_IP if you need to bind to another address\n"
     ]
    },
    {
     "name": "stderr",
     "output_type": "stream",
     "text": [
      "Setting default log level to \"WARN\".\n",
      "To adjust logging level use sc.setLogLevel(newLevel). For SparkR, use setLogLevel(newLevel).\n"
     ]
    },
    {
     "name": "stdout",
     "output_type": "stream",
     "text": [
      "24/11/07 13:34:02 WARN NativeCodeLoader: Unable to load native-hadoop library for your platform... using builtin-java classes where applicable\n"
     ]
    }
   ],
   "source": [
    "spark = SparkSession.builder.appName(\"BD Lab\").getOrCreate()"
   ]
  },
  {
   "cell_type": "code",
   "execution_count": 3,
   "id": "95c7f7f7-df04-44ce-9ce4-8ba9059a702c",
   "metadata": {},
   "outputs": [],
   "source": [
    "data1 = spark.read.option(\"header\", True).csv(\"data1.csv\")\n",
    "data2 = spark.read.option(\"header\", True).csv(\"data2.csv\")"
   ]
  },
  {
   "cell_type": "code",
   "execution_count": 4,
   "id": "25145d14-b72f-40b9-a405-69ec8515645d",
   "metadata": {},
   "outputs": [
    {
     "name": "stdout",
     "output_type": "stream",
     "text": [
      "+---------+----------+--------+-----------+---------+------+\n",
      "|RowNumber|CustomerId| Surname|CreditScore|Geography|Gender|\n",
      "+---------+----------+--------+-----------+---------+------+\n",
      "|        1|  15634602|Hargrave|        619|   France|Female|\n",
      "|        2|  15647311|    Hill|        608|    Spain|Female|\n",
      "|        3|  15619304|    Onio|        502|   France|Female|\n",
      "|        4|  15701354|    Boni|        699|   France|Female|\n",
      "|        5|  15737888|Mitchell|        850|    Spain|Female|\n",
      "+---------+----------+--------+-----------+---------+------+\n",
      "only showing top 5 rows\n",
      "\n"
     ]
    }
   ],
   "source": [
    "data1.show(5)"
   ]
  },
  {
   "cell_type": "code",
   "execution_count": 5,
   "id": "8f4148f8-23e7-4831-b592-7aea6207a56e",
   "metadata": {},
   "outputs": [
    {
     "name": "stdout",
     "output_type": "stream",
     "text": [
      "+----------+---+------+---------+-------------+---------+--------------+---------------+------+\n",
      "|CustomerId|Age|Tenure|  Balance|NumOfProducts|HasCrCard|IsActiveMember|EstimatedSalary|Exited|\n",
      "+----------+---+------+---------+-------------+---------+--------------+---------------+------+\n",
      "|  15634602| 42|     2|        0|            1|        1|             1|      101348.88|     1|\n",
      "|  15647311| 41|     1| 83807.86|            1|        0|             1|      112542.58|     0|\n",
      "|  15619304| 42|     8| 159660.8|            3|        1|             0|      113931.57|     1|\n",
      "|  15701354| 39|     1|        0|            2|        0|             0|       93826.63|     0|\n",
      "|  15737888| 43|     2|125510.82|            1|        1|             1|        79084.1|     0|\n",
      "+----------+---+------+---------+-------------+---------+--------------+---------------+------+\n",
      "only showing top 5 rows\n",
      "\n"
     ]
    }
   ],
   "source": [
    "data2.show(5)"
   ]
  },
  {
   "cell_type": "code",
   "execution_count": 6,
   "id": "cb9a8da7-7c4a-41f3-a3e9-bf4706ba0eb4",
   "metadata": {},
   "outputs": [],
   "source": [
    "joined_data = data1.join(data2, on=\"CustomerID\", how=\"inner\")"
   ]
  },
  {
   "cell_type": "code",
   "execution_count": 7,
   "id": "0e5d5015-b752-42c4-917f-4afd31d7d911",
   "metadata": {},
   "outputs": [],
   "source": [
    "active_avg_salary = joined_data.filter(joined_data[\"IsActiveMember\"] == 1).select(avg(\"EstimatedSalary\").alias(\"AverageSalary\"))"
   ]
  },
  {
   "cell_type": "code",
   "execution_count": 8,
   "id": "2af3a9db-628a-47a2-99d4-5506f4b95a22",
   "metadata": {},
   "outputs": [
    {
     "name": "stdout",
     "output_type": "stream",
     "text": [
      "Average Salary :  99452.96589400139\n"
     ]
    }
   ],
   "source": [
    "print(\"Average Salary : \",active_avg_salary.collect()[0][0])"
   ]
  },
  {
   "cell_type": "code",
   "execution_count": 9,
   "id": "05150542-5e7e-4afa-b48e-148f3bc972cb",
   "metadata": {},
   "outputs": [
    {
     "name": "stdout",
     "output_type": "stream",
     "text": [
      "+------+------------------+\n",
      "|Gender|        AverageAge|\n",
      "+------+------------------+\n",
      "|Female|39.238388729914156|\n",
      "|  Male|38.658237126626354|\n",
      "+------+------------------+\n",
      "\n"
     ]
    }
   ],
   "source": [
    "average_age_by_gender = joined_data.groupBy(\"Gender\").agg(avg(\"Age\").alias(\"AverageAge\"))\n",
    "\n",
    "average_age_by_gender.show()"
   ]
  },
  {
   "cell_type": "code",
   "execution_count": 10,
   "id": "0795b6e6-86b7-45e3-b995-2497d52b8579",
   "metadata": {},
   "outputs": [],
   "source": [
    "joined_data.createOrReplaceTempView(\"customer_data\")"
   ]
  },
  {
   "cell_type": "code",
   "execution_count": 11,
   "id": "e4ced38d-0691-4f19-aeb6-af055fc309d1",
   "metadata": {},
   "outputs": [
    {
     "name": "stdout",
     "output_type": "stream",
     "text": [
      "+----------+-------------+---------------+\n",
      "|CustomerId|      Surname|EstimatedSalary|\n",
      "+----------+-------------+---------------+\n",
      "|  15634602|     Hargrave|      101348.88|\n",
      "|  15647311|         Hill|      112542.58|\n",
      "|  15619304|         Onio|      113931.57|\n",
      "|  15574012|          Chu|      149756.71|\n",
      "|  15656148|       Obinna|      119346.88|\n",
      "|  15691483|         Chin|      190857.79|\n",
      "|  15661507|      Muldrow|      158684.81|\n",
      "|  15577657|     McDonald|      170886.17|\n",
      "|  15597945|     Dellucci|      138555.46|\n",
      "|  15699309|    Gerasimov|      118913.53|\n",
      "|  15625047|          Yen|      187616.16|\n",
      "|  15738191|      Maclean|      124508.29|\n",
      "|  15736816|        Young|      170041.95|\n",
      "|  15728693|   McWilliams|      100187.43|\n",
      "|  15589475|      Azikiwe|      140469.38|\n",
      "|  15706552|Odinakachukwu|      156731.91|\n",
      "|  15732963|     Clements|      142033.07|\n",
      "|  15788448|       Watson|      114066.77|\n",
      "|  15585768|      Cameron|      178074.04|\n",
      "|  15738148|       Clarke|      181297.65|\n",
      "+----------+-------------+---------------+\n",
      "only showing top 20 rows\n",
      "\n"
     ]
    }
   ],
   "source": [
    "high_earners = spark.sql(\"SELECT CustomerId, Surname, EstimatedSalary FROM customer_data WHERE EstimatedSalary > 100000\")\n",
    "\n",
    "high_earners.show()"
   ]
  },
  {
   "cell_type": "code",
   "execution_count": 12,
   "id": "6da21066-6566-460b-bbe2-2aeac01e19f2",
   "metadata": {},
   "outputs": [],
   "source": [
    "products_by_geography = joined_data.groupBy(\"Geography\").agg(sum(\"NumOfProducts\").alias(\"TotalProducts\"))"
   ]
  },
  {
   "cell_type": "code",
   "execution_count": 13,
   "id": "955dbf93-30ae-4cd1-b269-d00b25aefe37",
   "metadata": {},
   "outputs": [
    {
     "name": "stdout",
     "output_type": "stream",
     "text": [
      "+---------+-------------+\n",
      "|Geography|TotalProducts|\n",
      "+---------+-------------+\n",
      "|  Germany|       3813.0|\n",
      "|   France|       7676.0|\n",
      "|    Spain|       3813.0|\n",
      "+---------+-------------+\n",
      "\n"
     ]
    }
   ],
   "source": [
    "products_by_geography.show()"
   ]
  },
  {
   "cell_type": "code",
   "execution_count": null,
   "id": "d1707eaa-73cc-47de-b914-8fbe071d397b",
   "metadata": {},
   "outputs": [],
   "source": []
  }
 ],
 "metadata": {
  "kernelspec": {
   "display_name": "Python 3 (ipykernel)",
   "language": "python",
   "name": "python3"
  },
  "language_info": {
   "codemirror_mode": {
    "name": "ipython",
    "version": 3
   },
   "file_extension": ".py",
   "mimetype": "text/x-python",
   "name": "python",
   "nbconvert_exporter": "python",
   "pygments_lexer": "ipython3",
   "version": "3.11.7"
  }
 },
 "nbformat": 4,
 "nbformat_minor": 5
}

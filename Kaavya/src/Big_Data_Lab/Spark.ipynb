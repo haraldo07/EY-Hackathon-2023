{
 "cells": [
  {
   "cell_type": "code",
   "execution_count": 1,
   "id": "56e0fb98-bfb2-4e89-a75e-7c40b95d7966",
   "metadata": {},
   "outputs": [],
   "source": [
    "from pyspark.sql import SparkSession\n",
    "from pyspark.sql.types import StructType, StructField, IntegerType, LongType\n",
    "from pyspark.sql import functions as F"
   ]
  },
  {
   "cell_type": "code",
   "execution_count": 2,
   "id": "565239be-24a7-46ea-baa5-ccf9fa59f745",
   "metadata": {},
   "outputs": [
    {
     "name": "stdout",
     "output_type": "stream",
     "text": [
      "24/10/29 08:49:26 WARN Utils: Your hostname, snucse-HP-Pro-Tower-400-G9-PCI-Desktop-PC resolves to a loopback address: 127.0.1.1; using 10.23.22.75 instead (on interface eno1)\n",
      "24/10/29 08:49:26 WARN Utils: Set SPARK_LOCAL_IP if you need to bind to another address\n"
     ]
    },
    {
     "name": "stderr",
     "output_type": "stream",
     "text": [
      "Setting default log level to \"WARN\".\n",
      "To adjust logging level use sc.setLogLevel(newLevel). For SparkR, use setLogLevel(newLevel).\n"
     ]
    },
    {
     "name": "stdout",
     "output_type": "stream",
     "text": [
      "24/10/29 08:49:27 WARN NativeCodeLoader: Unable to load native-hadoop library for your platform... using builtin-java classes where applicable\n"
     ]
    }
   ],
   "source": [
    "spark = SparkSession.builder \\\n",
    "    .appName(\"Movie Ratings Analysis\") \\\n",
    "    .getOrCreate()"
   ]
  },
  {
   "cell_type": "code",
   "execution_count": 3,
   "id": "f9df5e60-c871-414f-8dd3-00b99aef3056",
   "metadata": {},
   "outputs": [],
   "source": [
    "schema = StructType([\n",
    "    StructField(\"movie_id\", IntegerType(), True),\n",
    "    StructField(\"user_id\", IntegerType(), True),\n",
    "    StructField(\"rating\", IntegerType(), True),\n",
    "    StructField(\"timestamp\", LongType(), True)\n",
    "])"
   ]
  },
  {
   "cell_type": "code",
   "execution_count": 4,
   "id": "5a30b1cb-1aa8-4efd-9318-fd9822fbdac1",
   "metadata": {},
   "outputs": [],
   "source": [
    "data_path = \"u.data\"  \n",
    "df = spark.read.csv(data_path, schema=schema, sep='\\t')"
   ]
  },
  {
   "cell_type": "code",
   "execution_count": 5,
   "id": "3135fe78-43c1-41e5-9034-64fdaf656fe5",
   "metadata": {},
   "outputs": [],
   "source": [
    "top_movies = df.groupBy(\"movie_id\") \\\n",
    "    .agg(F.count(\"rating\").alias(\"rating_count\")) \\\n",
    "    .orderBy(F.desc(\"rating_count\")) \\\n",
    "    .limit(10)"
   ]
  },
  {
   "cell_type": "code",
   "execution_count": 6,
   "id": "febd58a6-f319-4c40-bd0e-b3e962a9e554",
   "metadata": {},
   "outputs": [
    {
     "name": "stdout",
     "output_type": "stream",
     "text": [
      "+--------+------------+\n",
      "|movie_id|rating_count|\n",
      "+--------+------------+\n",
      "|     405|         737|\n",
      "|     655|         685|\n",
      "|      13|         636|\n",
      "|     450|         540|\n",
      "|     276|         518|\n",
      "|     416|         493|\n",
      "|     537|         490|\n",
      "|     303|         484|\n",
      "|     234|         480|\n",
      "|     393|         448|\n",
      "+--------+------------+\n",
      "\n"
     ]
    }
   ],
   "source": [
    "top_movies.show()"
   ]
  },
  {
   "cell_type": "code",
   "execution_count": 7,
   "id": "d64bf3fb-f69d-40fe-baae-369da5d1384d",
   "metadata": {},
   "outputs": [],
   "source": [
    "top_users = df.groupBy(\"user_id\") \\\n",
    "    .agg(F.count(\"rating\").alias(\"rating_count\")) \\\n",
    "    .orderBy(F.desc(\"rating_count\")) \\\n",
    "    .limit(10)"
   ]
  },
  {
   "cell_type": "code",
   "execution_count": 8,
   "id": "67167626-b004-4da6-aff6-ebfb3406ff77",
   "metadata": {},
   "outputs": [
    {
     "name": "stdout",
     "output_type": "stream",
     "text": [
      "+-------+------------+\n",
      "|user_id|rating_count|\n",
      "+-------+------------+\n",
      "|     50|         583|\n",
      "|    258|         509|\n",
      "|    100|         508|\n",
      "|    181|         507|\n",
      "|    294|         485|\n",
      "|    286|         481|\n",
      "|    288|         478|\n",
      "|      1|         452|\n",
      "|    300|         431|\n",
      "|    121|         429|\n",
      "+-------+------------+\n",
      "\n"
     ]
    }
   ],
   "source": [
    "top_users.show()"
   ]
  },
  {
   "cell_type": "code",
   "execution_count": 9,
   "id": "11ae5edd-8b39-427b-8d09-a8aea1c5ffa3",
   "metadata": {},
   "outputs": [],
   "source": [
    "spark.stop()"
   ]
  },
  {
   "cell_type": "code",
   "execution_count": null,
   "id": "666e982b-a3c5-472f-85f1-f8493f0fc339",
   "metadata": {},
   "outputs": [],
   "source": []
  }
 ],
 "metadata": {
  "kernelspec": {
   "display_name": "Python 3 (ipykernel)",
   "language": "python",
   "name": "python3"
  },
  "language_info": {
   "codemirror_mode": {
    "name": "ipython",
    "version": 3
   },
   "file_extension": ".py",
   "mimetype": "text/x-python",
   "name": "python",
   "nbconvert_exporter": "python",
   "pygments_lexer": "ipython3",
   "version": "3.11.7"
  }
 },
 "nbformat": 4,
 "nbformat_minor": 5
}

{
 "cells": [
  {
   "cell_type": "code",
   "execution_count": 184,
   "id": "e5209397-6c2b-469e-8390-f2808bbf5ed6",
   "metadata": {},
   "outputs": [],
   "source": [
    "import numpy as np\n",
    "import matplotlib.pyplot as plt\n",
    "import cv2 as cv\n",
    "from tensorflow.keras.datasets import cifar10\n",
    "from skimage import exposure\n",
    "from scipy.signal import wiener\n",
    "from tensorflow.keras.utils import to_categorical\n",
    "from tensorflow.keras.preprocessing.image import ImageDataGenerator\n",
    "from tensorflow.keras.models import Sequential\n",
    "from tensorflow.keras.layers import Conv2D,MaxPool2D,Dense,Flatten,Dropout\n",
    "from tensorflow.keras.losses import categorical_crossentropy\n",
    "from sklearn.metrics import classification_report"
   ]
  },
  {
   "cell_type": "code",
   "execution_count": 170,
   "id": "459a405b-e8e0-4f25-ae13-a0a13c628c6f",
   "metadata": {},
   "outputs": [],
   "source": [
    "(x_train_raw,y_train_raw),(x_test_raw,y_test_raw)=cifar10.load_data()"
   ]
  },
  {
   "cell_type": "code",
   "execution_count": 171,
   "id": "d7f6e3b0-aca1-4c1b-b5f6-499cddb0dbc6",
   "metadata": {},
   "outputs": [],
   "source": [
    "def image_enhancement(images):\n",
    "    enhanced_images = []\n",
    "    for image in images:\n",
    "        enhanced_img = []\n",
    "        for channel in range(3):  # Iterate over the 3 channels\n",
    "            img_channel = image[:, :, channel]\n",
    "            g = 1.5\n",
    "            gamma_correction = exposure.adjust_gamma(img_channel, gamma=g)\n",
    "\n",
    "            kernel = np.array([[0, -1, 0], [-1, 5, -1], [0, -1, 0]])\n",
    "            sharpen = cv.filter2D(gamma_correction, -1, kernel)\n",
    "\n",
    "            enhanced_img.append(sharpen)\n",
    "\n",
    "        enhanced_img = np.stack(enhanced_img, axis=2)\n",
    "        enhanced_images.append(enhanced_img)\n",
    "\n",
    "    return np.array(enhanced_images)"
   ]
  },
  {
   "cell_type": "code",
   "execution_count": 172,
   "id": "2f317129-b9b5-4ce7-af58-74d400652860",
   "metadata": {},
   "outputs": [],
   "source": [
    "x_train=image_enhancement(x_train_raw)\n",
    "x_test=image_enhancement(x_test_raw)"
   ]
  },
  {
   "cell_type": "code",
   "execution_count": 173,
   "id": "2e3f7fe3-3a80-4b3b-9e59-1fb44da714d4",
   "metadata": {},
   "outputs": [],
   "source": [
    "x_train=x_train_raw.astype('float32')/255.0\n",
    "x_test=x_test_raw.astype('float32')/255.0"
   ]
  },
  {
   "cell_type": "code",
   "execution_count": 175,
   "id": "1b6b9a63-3efc-4598-8d25-c20ee4cb72b1",
   "metadata": {},
   "outputs": [],
   "source": [
    "y_train_raw = y_train_raw - np.min(y_train_raw)\n",
    "y_test_raw = y_test_raw - np.min(y_test_raw)\n",
    "\n",
    "y_train = to_categorical(y_train_raw, num_classes=10)\n",
    "y_test = to_categorical(y_test_raw, num_classes=10)"
   ]
  },
  {
   "cell_type": "code",
   "execution_count": 176,
   "id": "c3caebf4-91bc-48c4-9052-48aa41f014c8",
   "metadata": {},
   "outputs": [],
   "source": [
    "data=ImageDataGenerator(\n",
    "    rotation_range=10,\n",
    "    width_shift_range=0.1,\n",
    "    height_shift_range=0.1,\n",
    "    horizontal_flip=True\n",
    ")"
   ]
  },
  {
   "cell_type": "code",
   "execution_count": 177,
   "id": "4b8b45f0-5150-4d65-bdd1-c1afa30557c5",
   "metadata": {},
   "outputs": [],
   "source": [
    "data.fit(x_train)"
   ]
  },
  {
   "cell_type": "code",
   "execution_count": 187,
   "id": "e883268b-a365-4070-a121-723c456d6a17",
   "metadata": {},
   "outputs": [],
   "source": [
    "model=Sequential()\n",
    "model.add(Conv2D(32,(3,3),activation='relu',input_shape=(32,32,3)))\n",
    "model.add(MaxPool2D((2,2)))\n",
    "model.add(Conv2D(64,(3,3),activation='relu'))\n",
    "model.add(MaxPool2D((2,2)))\n",
    "model.add(Flatten())\n",
    "model.add(Dropout(0.2))\n",
    "model.add(Dense(10,activation='softmax'))\n",
    "model.compile(optimizer='adam',loss=categorical_crossentropy,metrics=['accuracy'])"
   ]
  },
  {
   "cell_type": "code",
   "execution_count": 188,
   "id": "c40d6966-422e-4e48-af9c-057253ca2efc",
   "metadata": {},
   "outputs": [
    {
     "name": "stdout",
     "output_type": "stream",
     "text": [
      "Epoch 1/40\n",
      "391/391 [==============================] - 15s 37ms/step - loss: 1.6947 - accuracy: 0.3878 - val_loss: 1.4120 - val_accuracy: 0.5017\n",
      "Epoch 2/40\n",
      "391/391 [==============================] - 14s 36ms/step - loss: 1.4239 - accuracy: 0.4934 - val_loss: 1.2568 - val_accuracy: 0.5635\n",
      "Epoch 3/40\n",
      "391/391 [==============================] - 14s 37ms/step - loss: 1.3179 - accuracy: 0.5373 - val_loss: 1.2499 - val_accuracy: 0.5685\n",
      "Epoch 4/40\n",
      "391/391 [==============================] - 14s 36ms/step - loss: 1.2594 - accuracy: 0.5590 - val_loss: 1.1103 - val_accuracy: 0.6084\n",
      "Epoch 5/40\n",
      "391/391 [==============================] - 14s 36ms/step - loss: 1.2102 - accuracy: 0.5774 - val_loss: 1.1179 - val_accuracy: 0.6130\n",
      "Epoch 6/40\n",
      "391/391 [==============================] - 14s 36ms/step - loss: 1.1714 - accuracy: 0.5918 - val_loss: 1.0533 - val_accuracy: 0.6358\n",
      "Epoch 7/40\n",
      "391/391 [==============================] - 14s 37ms/step - loss: 1.1393 - accuracy: 0.6020 - val_loss: 1.0329 - val_accuracy: 0.6472\n",
      "Epoch 8/40\n",
      "391/391 [==============================] - 14s 36ms/step - loss: 1.1228 - accuracy: 0.6083 - val_loss: 0.9829 - val_accuracy: 0.6659\n",
      "Epoch 9/40\n",
      "391/391 [==============================] - 14s 36ms/step - loss: 1.0990 - accuracy: 0.6209 - val_loss: 0.9771 - val_accuracy: 0.6695\n",
      "Epoch 10/40\n",
      "391/391 [==============================] - 14s 36ms/step - loss: 1.0826 - accuracy: 0.6234 - val_loss: 0.9922 - val_accuracy: 0.6600\n",
      "Epoch 11/40\n",
      "391/391 [==============================] - 15s 37ms/step - loss: 1.0698 - accuracy: 0.6273 - val_loss: 0.9301 - val_accuracy: 0.6846\n",
      "Epoch 12/40\n",
      "391/391 [==============================] - 14s 36ms/step - loss: 1.0531 - accuracy: 0.6360 - val_loss: 0.9456 - val_accuracy: 0.6779\n",
      "Epoch 13/40\n",
      "391/391 [==============================] - 14s 37ms/step - loss: 1.0393 - accuracy: 0.6390 - val_loss: 0.9756 - val_accuracy: 0.6729\n",
      "Epoch 14/40\n",
      "391/391 [==============================] - 14s 37ms/step - loss: 1.0244 - accuracy: 0.6453 - val_loss: 0.9206 - val_accuracy: 0.6932\n",
      "Epoch 15/40\n",
      "391/391 [==============================] - 14s 36ms/step - loss: 1.0171 - accuracy: 0.6485 - val_loss: 0.9170 - val_accuracy: 0.6891\n",
      "Epoch 16/40\n",
      "391/391 [==============================] - 14s 36ms/step - loss: 1.0022 - accuracy: 0.6530 - val_loss: 0.8813 - val_accuracy: 0.7052\n",
      "Epoch 17/40\n",
      "391/391 [==============================] - 14s 37ms/step - loss: 0.9959 - accuracy: 0.6529 - val_loss: 0.8969 - val_accuracy: 0.7007\n",
      "Epoch 18/40\n",
      "391/391 [==============================] - 14s 36ms/step - loss: 0.9861 - accuracy: 0.6584 - val_loss: 0.9472 - val_accuracy: 0.6775\n",
      "Epoch 19/40\n",
      "391/391 [==============================] - 15s 38ms/step - loss: 0.9768 - accuracy: 0.6619 - val_loss: 0.8679 - val_accuracy: 0.7116\n",
      "Epoch 20/40\n",
      "391/391 [==============================] - 14s 37ms/step - loss: 0.9714 - accuracy: 0.6623 - val_loss: 0.8649 - val_accuracy: 0.7130\n",
      "Epoch 21/40\n",
      "391/391 [==============================] - 14s 36ms/step - loss: 0.9617 - accuracy: 0.6662 - val_loss: 0.9305 - val_accuracy: 0.6806\n",
      "Epoch 22/40\n",
      "391/391 [==============================] - 14s 36ms/step - loss: 0.9567 - accuracy: 0.6702 - val_loss: 0.8958 - val_accuracy: 0.6966\n",
      "Epoch 23/40\n",
      "391/391 [==============================] - 14s 36ms/step - loss: 0.9482 - accuracy: 0.6693 - val_loss: 0.8865 - val_accuracy: 0.7021\n",
      "Epoch 24/40\n",
      "391/391 [==============================] - 14s 37ms/step - loss: 0.9415 - accuracy: 0.6739 - val_loss: 0.8572 - val_accuracy: 0.7109\n",
      "Epoch 25/40\n",
      "391/391 [==============================] - 14s 36ms/step - loss: 0.9348 - accuracy: 0.6761 - val_loss: 0.8252 - val_accuracy: 0.7222\n",
      "Epoch 26/40\n",
      "391/391 [==============================] - 14s 36ms/step - loss: 0.9236 - accuracy: 0.6802 - val_loss: 0.8609 - val_accuracy: 0.7108\n",
      "Epoch 27/40\n",
      "391/391 [==============================] - 15s 37ms/step - loss: 0.9229 - accuracy: 0.6791 - val_loss: 0.8467 - val_accuracy: 0.7183\n",
      "Epoch 28/40\n",
      "391/391 [==============================] - 14s 36ms/step - loss: 0.9233 - accuracy: 0.6806 - val_loss: 0.7957 - val_accuracy: 0.7254\n",
      "Epoch 29/40\n",
      "391/391 [==============================] - 14s 37ms/step - loss: 0.9122 - accuracy: 0.6845 - val_loss: 0.8284 - val_accuracy: 0.7207\n",
      "Epoch 30/40\n",
      "391/391 [==============================] - 15s 37ms/step - loss: 0.9068 - accuracy: 0.6854 - val_loss: 0.8289 - val_accuracy: 0.7178\n",
      "Epoch 31/40\n",
      "391/391 [==============================] - 14s 36ms/step - loss: 0.9034 - accuracy: 0.6897 - val_loss: 0.7994 - val_accuracy: 0.7296\n",
      "Epoch 32/40\n",
      "391/391 [==============================] - 14s 36ms/step - loss: 0.8996 - accuracy: 0.6885 - val_loss: 0.8268 - val_accuracy: 0.7188\n",
      "Epoch 33/40\n",
      "391/391 [==============================] - 14s 36ms/step - loss: 0.8963 - accuracy: 0.6902 - val_loss: 0.8516 - val_accuracy: 0.7151\n",
      "Epoch 34/40\n",
      "391/391 [==============================] - 14s 36ms/step - loss: 0.8826 - accuracy: 0.6934 - val_loss: 0.8017 - val_accuracy: 0.7253\n",
      "Epoch 35/40\n",
      "391/391 [==============================] - 14s 37ms/step - loss: 0.8791 - accuracy: 0.6971 - val_loss: 0.8101 - val_accuracy: 0.7209\n",
      "Epoch 36/40\n",
      "391/391 [==============================] - 14s 36ms/step - loss: 0.8810 - accuracy: 0.6955 - val_loss: 0.8016 - val_accuracy: 0.7274\n",
      "Epoch 37/40\n",
      "391/391 [==============================] - 14s 36ms/step - loss: 0.8755 - accuracy: 0.6977 - val_loss: 0.7661 - val_accuracy: 0.7453\n",
      "Epoch 38/40\n",
      "391/391 [==============================] - 14s 37ms/step - loss: 0.8762 - accuracy: 0.6979 - val_loss: 0.7735 - val_accuracy: 0.7450\n",
      "Epoch 39/40\n",
      "391/391 [==============================] - 14s 36ms/step - loss: 0.8647 - accuracy: 0.7028 - val_loss: 0.8151 - val_accuracy: 0.7251\n",
      "Epoch 40/40\n",
      "391/391 [==============================] - 14s 37ms/step - loss: 0.8623 - accuracy: 0.7018 - val_loss: 0.8293 - val_accuracy: 0.7243\n"
     ]
    }
   ],
   "source": [
    "hist=model.fit(data.flow(x_train,y_train,batch_size=128),epochs=40,validation_data=(x_test,y_test))"
   ]
  },
  {
   "cell_type": "code",
   "execution_count": 189,
   "id": "dba75064-f491-4ad9-9fd9-1290aa9a6272",
   "metadata": {},
   "outputs": [
    {
     "data": {
      "text/plain": [
       "<matplotlib.legend.Legend at 0x1649403e710>"
      ]
     },
     "execution_count": 189,
     "metadata": {},
     "output_type": "execute_result"
    },
    {
     "data": {
      "image/png": "[encoded data removed]",
      "text/plain": [
       "<Figure size 640x480 with 1 Axes>"
      ]
     },
     "metadata": {},
     "output_type": "display_data"
    }
   ],
   "source": [
    "plt.plot(hist.history['loss'],label='Train')\n",
    "plt.plot(hist.history['val_loss'],label='Val')\n",
    "plt.legend()"
   ]
  },
  {
   "cell_type": "code",
   "execution_count": 190,
   "id": "37c3bcda-669a-4282-9d23-4ee037747352",
   "metadata": {},
   "outputs": [
    {
     "name": "stdout",
     "output_type": "stream",
     "text": [
      "313/313 [==============================] - 0s 1ms/step\n"
     ]
    }
   ],
   "source": [
    "y_pred=model.predict(x_test)\n",
    "y_pred_class=np.argmax(y_pred,axis=1)\n",
    "y_true=np.argmax(y_test,axis=1)"
   ]
  },
  {
   "cell_type": "code",
   "execution_count": 191,
   "id": "5191c93f-9fbc-4c6f-944d-e4e1daa8b178",
   "metadata": {},
   "outputs": [
    {
     "name": "stdout",
     "output_type": "stream",
     "text": [
      "              precision    recall  f1-score   support\n",
      "\n",
      "           0       0.80      0.72      0.76      1106\n",
      "           1       0.87      0.80      0.83      1078\n",
      "           2       0.52      0.75      0.62       693\n",
      "           3       0.38      0.70      0.49       539\n",
      "           4       0.68      0.71      0.69       955\n",
      "           5       0.59      0.73      0.65       812\n",
      "           6       0.92      0.61      0.74      1507\n",
      "           7       0.79      0.78      0.79      1005\n",
      "           8       0.80      0.85      0.82       943\n",
      "           9       0.90      0.66      0.76      1362\n",
      "\n",
      "    accuracy                           0.72     10000\n",
      "   macro avg       0.72      0.73      0.72     10000\n",
      "weighted avg       0.77      0.72      0.73     10000\n",
      "\n"
     ]
    }
   ],
   "source": [
    "print(classification_report(y_pred_class,y_true))"
   ]
  },
  {
   "cell_type": "code",
   "execution_count": 3,
   "id": "9a4fabe7",
   "metadata": {},
   "outputs": [
    {
     "name": "stdout",
     "output_type": "stream",
     "text": [
      "13002/ 9380 =  1.386140724946695\n",
      "13002/ 4608 =  2.8216145833333335\n",
      "13002/ 4377 =  2.970527758738862\n",
      "13002/ 4434 =  2.93234100135318\n",
      "13002/ 3203 =  4.059319388073681\n",
      "13002/ 3455 =  3.7632416787264833\n",
      "13002/ 3794 =  3.426989984185556\n",
      "13002/ 3647 =  3.565122018097066\n",
      "13002/ 2913 =  4.463439752832132\n",
      "13002/ 2674 =  4.862378459237098\n",
      "13002/ 2551 =  5.096824774598197\n"
     ]
    },
    {
     "data": {
      "text/plain": [
       "[1.386140724946695,\n",
       " 2.8216145833333335,\n",
       " 2.970527758738862,\n",
       " 2.93234100135318,\n",
       " 4.059319388073681,\n",
       " 3.7632416787264833,\n",
       " 3.426989984185556,\n",
       " 3.565122018097066,\n",
       " 4.463439752832132,\n",
       " 4.862378459237098,\n",
       " 5.096824774598197]"
      ]
     },
     "execution_count": 3,
     "metadata": {},
     "output_type": "execute_result"
    }
   ],
   "source": [
    "a=[9380,4608,4377,4434,3203,3455,3794,3647,2913,2674,2551]\n",
    "b=[]\n",
    "for i in a:\n",
    "    print(\"13002/\",i,'= ',13002/i)\n",
    "    b.append(13002/i)\n",
    "b"
   ]
  },
  {
   "cell_type": "code",
   "execution_count": 5,
   "id": "cc7073ed",
   "metadata": {},
   "outputs": [
    {
     "name": "stdout",
     "output_type": "stream",
     "text": [
      "1.386140724946695 / 2 =  69.30703624733475\n",
      "2.8216145833333335 / 3 =  94.05381944444446\n",
      "2.970527758738862 / 4 =  74.26319396847155\n",
      "2.93234100135318 / 5 =  58.6468200270636\n",
      "4.059319388073681 / 6 =  67.65532313456136\n",
      "3.7632416787264833 / 7 =  53.76059541037833\n",
      "3.426989984185556 / 8 =  42.83737480231945\n",
      "3.565122018097066 / 9 =  39.61246686774518\n",
      "4.463439752832132 / 10 =  44.634397528321315\n",
      "4.862378459237098 / 11 =  44.203440538519075\n",
      "5.096824774598197 / 12 =  42.47353978831831\n"
     ]
    }
   ],
   "source": [
    "count =2\n",
    "for i in b:\n",
    "    print(i,'/',count,'= ',(i/count)*100)\n",
    "    count+=1"
   ]
  },
  {
   "cell_type": "code",
   "execution_count": 4,
   "id": "ad33ffa0-05e6-404a-a6d4-9452c61e35cb",
   "metadata": {},
   "outputs": [
    {
     "data": {
      "text/plain": [
       "146.57535"
      ]
     },
     "execution_count": 4,
     "metadata": {},
     "output_type": "execute_result"
    }
   ],
   "source": [
    "(2.931507/2)*100"
   ]
  },
  {
   "cell_type": "code",
   "execution_count": null,
   "id": "a97c7696",
   "metadata": {},
   "outputs": [],
   "source": []
  }
 ],
 "metadata": {
  "kernelspec": {
   "display_name": "Python 3 (ipykernel)",
   "language": "python",
   "name": "python3"
  },
  "language_info": {
   "codemirror_mode": {
    "name": "ipython",
    "version": 3
   },
   "file_extension": ".py",
   "mimetype": "text/x-python",
   "name": "python",
   "nbconvert_exporter": "python",
   "pygments_lexer": "ipython3",
   "version": "3.11.5"
  }
 },
 "nbformat": 4,
 "nbformat_minor": 5
}
